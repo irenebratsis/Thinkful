{
 "cells": [
  {
   "cell_type": "markdown",
   "metadata": {},
   "source": [
    "#### Problem Overview:\n",
    "Johnny’s Jeans is a fashion start-up and a new customer of ActionIQ. The first campaign they want to create on our platform is a Thank-You message to all their first customers. They want to target their first 10,000 customers and send them some stats about their first year of sales.\n",
    "\n",
    "The Johnny’s Jeans finance team reported that the first 10,000 customers spent a collective $33,904,525 on their site. \n",
    "\n",
    "However when the marketing team ran the sum of total revenue on the AIQ platform, the total sum was a bit less at $29,162,044. The Johnny’s Jeans marketing team was concerned about this data discrepancy and has reached out to AIQ.\n",
    "\n",
    "#### Background of our integration with Johnny’s Jeans:\n",
    "1. Every few weeks, Johnny’s Jeans data warehouse does an export of their most recent rows from their user-summary table. This data is encrypted and dropped into an AWS S3 bucket.\n",
    "\n",
    "2. AIQ’s server is designed to ping that S3 bucket every 24 hours and when a new file is dropped, AIQ’s system is supposed to retrieve the new file for decryption.\n",
    "\n",
    "3. The decrypted user-summary data is in a CSV with these fields:\n",
    "\n",
    "    a. user_id\n",
    "    b. Total_spend (total this user has spent at Johnny’s Jeans)\n",
    "    c. count_saved_items (total amount of book-marked items)\n",
    "    d. loyalty_credits (amount of loyalty points the user can spend)\n",
    "    e. batch_id\n",
    "    \n",
    "4. AIQ’s\n",
    "\n",
    "the data by choosing the largest batch_id for each user. This ensures that AIQ should only be loading 1 row per user.\n",
    "data pipeline is designed to read through all the data files and de-duplicate\n",
    "\n",
    "5. Once that data is de-duplicated, it is loaded into AIQ’s platform and is ready for users to start running queries.\n",
    "\n",
    "#### Task:\n",
    "\n",
    "1. Figure out best you can what the problem is. Bear in mind that just like any software engineering effort, AIQ is not immune to bugs and things may not work perfectly as expected.\n",
    "2. You are writing an email to the AIQ backend engineer describing what you’ve found and what you think the issue here is. Please provide as much information and/or examples as possible.\n",
    "3. Michael Greene, Johnny Jean’s email marketing director, emailed us asking why our data doesn’t seem to be matching up with theirs. Write a response for him.\n",
    "\n",
    "#### Task Notes:\n",
    "1. We have provided the 5 of the decrypted files that were sent to us by Johnny’s Jeans.\n",
    "\n",
    "    a. Delta0.csv was their initial base set of data.\n",
    "    b. Deltas 1-4 were their update files.\n",
    "2. We have also sent you AIQ’s version of their user-summary table(AIQ-user-summary.csv). Johnny Jeans’ has exported the table on their end and we’ve sent you that as well (Johnny-user-summary.csv).\n"
   ]
  },
  {
   "cell_type": "code",
   "execution_count": 1,
   "metadata": {},
   "outputs": [],
   "source": [
    "import numpy as np\n",
    "import pandas as pd"
   ]
  },
  {
   "cell_type": "code",
   "execution_count": 2,
   "metadata": {},
   "outputs": [],
   "source": [
    "AIQ_User_Summary = pd.read_csv('/Users/ir3n3br4t515/Desktop/AIQ-user-summary.csv')\n",
    "J_User_Summary = pd.read_csv('/Users/ir3n3br4t515/Desktop/Johnny-user-summary.csv')\n",
    "D_0 = pd.read_csv('/Users/ir3n3br4t515/Desktop/delta0.csv')\n",
    "D_1 = pd.read_csv('/Users/ir3n3br4t515/Desktop/delta1.csv')\n",
    "D_2 = pd.read_csv('/Users/ir3n3br4t515/Desktop/delta2.csv')\n",
    "D_3 = pd.read_csv('/Users/ir3n3br4t515/Desktop/delta3.csv')\n",
    "D_4 = pd.read_csv('/Users/ir3n3br4t515/Desktop/delta4.csv')\n",
    "\n",
    "\n"
   ]
  },
  {
   "cell_type": "code",
   "execution_count": 3,
   "metadata": {},
   "outputs": [
    {
     "data": {
      "text/html": [
       "<div>\n",
       "<style scoped>\n",
       "    .dataframe tbody tr th:only-of-type {\n",
       "        vertical-align: middle;\n",
       "    }\n",
       "\n",
       "    .dataframe tbody tr th {\n",
       "        vertical-align: top;\n",
       "    }\n",
       "\n",
       "    .dataframe thead th {\n",
       "        text-align: right;\n",
       "    }\n",
       "</style>\n",
       "<table border=\"1\" class=\"dataframe\">\n",
       "  <thead>\n",
       "    <tr style=\"text-align: right;\">\n",
       "      <th></th>\n",
       "      <th>user_id</th>\n",
       "      <th>total_spend</th>\n",
       "      <th>count_saved_items</th>\n",
       "      <th>loyalty_credits</th>\n",
       "      <th>batch_id</th>\n",
       "    </tr>\n",
       "  </thead>\n",
       "  <tbody>\n",
       "    <tr>\n",
       "      <td>0</td>\n",
       "      <td>5988</td>\n",
       "      <td>3500</td>\n",
       "      <td>12</td>\n",
       "      <td>517</td>\n",
       "      <td>3164</td>\n",
       "    </tr>\n",
       "    <tr>\n",
       "      <td>1</td>\n",
       "      <td>5989</td>\n",
       "      <td>775</td>\n",
       "      <td>17</td>\n",
       "      <td>613</td>\n",
       "      <td>298</td>\n",
       "    </tr>\n",
       "    <tr>\n",
       "      <td>2</td>\n",
       "      <td>5982</td>\n",
       "      <td>1749</td>\n",
       "      <td>8</td>\n",
       "      <td>386</td>\n",
       "      <td>1489</td>\n",
       "    </tr>\n",
       "    <tr>\n",
       "      <td>3</td>\n",
       "      <td>5983</td>\n",
       "      <td>3061</td>\n",
       "      <td>7</td>\n",
       "      <td>905</td>\n",
       "      <td>4271</td>\n",
       "    </tr>\n",
       "    <tr>\n",
       "      <td>4</td>\n",
       "      <td>5980</td>\n",
       "      <td>3852</td>\n",
       "      <td>48</td>\n",
       "      <td>938</td>\n",
       "      <td>3496</td>\n",
       "    </tr>\n",
       "  </tbody>\n",
       "</table>\n",
       "</div>"
      ],
      "text/plain": [
       "   user_id  total_spend  count_saved_items  loyalty_credits  batch_id\n",
       "0     5988         3500                 12              517      3164\n",
       "1     5989          775                 17              613       298\n",
       "2     5982         1749                  8              386      1489\n",
       "3     5983         3061                  7              905      4271\n",
       "4     5980         3852                 48              938      3496"
      ]
     },
     "execution_count": 3,
     "metadata": {},
     "output_type": "execute_result"
    }
   ],
   "source": [
    "AIQ_User_Summary.head()"
   ]
  },
  {
   "cell_type": "code",
   "execution_count": 4,
   "metadata": {},
   "outputs": [
    {
     "name": "stdout",
     "output_type": "stream",
     "text": [
      "<class 'pandas.core.frame.DataFrame'>\n",
      "RangeIndex: 10000 entries, 0 to 9999\n",
      "Data columns (total 5 columns):\n",
      "user_id              10000 non-null int64\n",
      "total_spend          10000 non-null int64\n",
      "count_saved_items    10000 non-null int64\n",
      "loyalty_credits      10000 non-null int64\n",
      "batch_id             10000 non-null int64\n",
      "dtypes: int64(5)\n",
      "memory usage: 390.8 KB\n"
     ]
    }
   ],
   "source": [
    "AIQ_User_Summary.info()"
   ]
  },
  {
   "cell_type": "code",
   "execution_count": 5,
   "metadata": {},
   "outputs": [
    {
     "name": "stdout",
     "output_type": "stream",
     "text": [
      "29162044\n"
     ]
    }
   ],
   "source": [
    "AIQ_Total = AIQ_User_Summary['total_spend'].sum()\n",
    "\n",
    "print (AIQ_Total)"
   ]
  },
  {
   "cell_type": "code",
   "execution_count": 6,
   "metadata": {},
   "outputs": [
    {
     "data": {
      "text/html": [
       "<div>\n",
       "<style scoped>\n",
       "    .dataframe tbody tr th:only-of-type {\n",
       "        vertical-align: middle;\n",
       "    }\n",
       "\n",
       "    .dataframe tbody tr th {\n",
       "        vertical-align: top;\n",
       "    }\n",
       "\n",
       "    .dataframe thead th {\n",
       "        text-align: right;\n",
       "    }\n",
       "</style>\n",
       "<table border=\"1\" class=\"dataframe\">\n",
       "  <thead>\n",
       "    <tr style=\"text-align: right;\">\n",
       "      <th></th>\n",
       "      <th>user_id</th>\n",
       "      <th>total_spend</th>\n",
       "      <th>count_saved_items</th>\n",
       "      <th>loyalty_credits</th>\n",
       "      <th>batch_id</th>\n",
       "    </tr>\n",
       "  </thead>\n",
       "  <tbody>\n",
       "    <tr>\n",
       "      <td>0</td>\n",
       "      <td>5988</td>\n",
       "      <td>4208</td>\n",
       "      <td>20</td>\n",
       "      <td>287</td>\n",
       "      <td>5731</td>\n",
       "    </tr>\n",
       "    <tr>\n",
       "      <td>1</td>\n",
       "      <td>5989</td>\n",
       "      <td>775</td>\n",
       "      <td>17</td>\n",
       "      <td>613</td>\n",
       "      <td>298</td>\n",
       "    </tr>\n",
       "    <tr>\n",
       "      <td>2</td>\n",
       "      <td>5982</td>\n",
       "      <td>1749</td>\n",
       "      <td>8</td>\n",
       "      <td>386</td>\n",
       "      <td>1489</td>\n",
       "    </tr>\n",
       "    <tr>\n",
       "      <td>3</td>\n",
       "      <td>5983</td>\n",
       "      <td>4537</td>\n",
       "      <td>17</td>\n",
       "      <td>151</td>\n",
       "      <td>4623</td>\n",
       "    </tr>\n",
       "    <tr>\n",
       "      <td>4</td>\n",
       "      <td>5980</td>\n",
       "      <td>3852</td>\n",
       "      <td>48</td>\n",
       "      <td>938</td>\n",
       "      <td>3496</td>\n",
       "    </tr>\n",
       "  </tbody>\n",
       "</table>\n",
       "</div>"
      ],
      "text/plain": [
       "   user_id  total_spend  count_saved_items  loyalty_credits  batch_id\n",
       "0     5988         4208                 20              287      5731\n",
       "1     5989          775                 17              613       298\n",
       "2     5982         1749                  8              386      1489\n",
       "3     5983         4537                 17              151      4623\n",
       "4     5980         3852                 48              938      3496"
      ]
     },
     "execution_count": 6,
     "metadata": {},
     "output_type": "execute_result"
    }
   ],
   "source": [
    "J_User_Summary.head()"
   ]
  },
  {
   "cell_type": "code",
   "execution_count": 7,
   "metadata": {},
   "outputs": [
    {
     "name": "stdout",
     "output_type": "stream",
     "text": [
      "<class 'pandas.core.frame.DataFrame'>\n",
      "RangeIndex: 10000 entries, 0 to 9999\n",
      "Data columns (total 5 columns):\n",
      "user_id              10000 non-null int64\n",
      "total_spend          10000 non-null int64\n",
      "count_saved_items    10000 non-null int64\n",
      "loyalty_credits      10000 non-null int64\n",
      "batch_id             10000 non-null int64\n",
      "dtypes: int64(5)\n",
      "memory usage: 390.8 KB\n"
     ]
    }
   ],
   "source": [
    "J_User_Summary.info()"
   ]
  },
  {
   "cell_type": "code",
   "execution_count": 8,
   "metadata": {},
   "outputs": [
    {
     "name": "stdout",
     "output_type": "stream",
     "text": [
      "33904525\n"
     ]
    }
   ],
   "source": [
    "J_Total = J_User_Summary['total_spend'].sum()\n",
    "\n",
    "print (J_Total)"
   ]
  },
  {
   "cell_type": "code",
   "execution_count": 9,
   "metadata": {},
   "outputs": [
    {
     "data": {
      "text/plain": [
       "4742481"
      ]
     },
     "execution_count": 9,
     "metadata": {},
     "output_type": "execute_result"
    }
   ],
   "source": [
    "J_Total - AIQ_Total"
   ]
  },
  {
   "cell_type": "code",
   "execution_count": 10,
   "metadata": {},
   "outputs": [
    {
     "data": {
      "text/plain": [
       "False"
      ]
     },
     "execution_count": 10,
     "metadata": {},
     "output_type": "execute_result"
    }
   ],
   "source": [
    "\n",
    "J_User_Summary['total_spend'].equals(AIQ_User_Summary['total_spend'])\n",
    "\n"
   ]
  },
  {
   "cell_type": "code",
   "execution_count": 11,
   "metadata": {},
   "outputs": [
    {
     "data": {
      "text/html": [
       "<div>\n",
       "<style scoped>\n",
       "    .dataframe tbody tr th:only-of-type {\n",
       "        vertical-align: middle;\n",
       "    }\n",
       "\n",
       "    .dataframe tbody tr th {\n",
       "        vertical-align: top;\n",
       "    }\n",
       "\n",
       "    .dataframe thead th {\n",
       "        text-align: right;\n",
       "    }\n",
       "</style>\n",
       "<table border=\"1\" class=\"dataframe\">\n",
       "  <thead>\n",
       "    <tr style=\"text-align: right;\">\n",
       "      <th></th>\n",
       "      <th>user_id</th>\n",
       "      <th>total_spend</th>\n",
       "      <th>count_saved_items</th>\n",
       "      <th>loyalty_credits</th>\n",
       "      <th>batch_id</th>\n",
       "    </tr>\n",
       "  </thead>\n",
       "  <tbody>\n",
       "    <tr>\n",
       "      <td>18</td>\n",
       "      <td>6791</td>\n",
       "      <td>4230</td>\n",
       "      <td>5</td>\n",
       "      <td>486</td>\n",
       "      <td>5893</td>\n",
       "    </tr>\n",
       "    <tr>\n",
       "      <td>45</td>\n",
       "      <td>4644</td>\n",
       "      <td>897</td>\n",
       "      <td>20</td>\n",
       "      <td>870</td>\n",
       "      <td>660</td>\n",
       "    </tr>\n",
       "    <tr>\n",
       "      <td>70</td>\n",
       "      <td>91</td>\n",
       "      <td>2204</td>\n",
       "      <td>7</td>\n",
       "      <td>447</td>\n",
       "      <td>2250</td>\n",
       "    </tr>\n",
       "    <tr>\n",
       "      <td>78</td>\n",
       "      <td>1376</td>\n",
       "      <td>324</td>\n",
       "      <td>48</td>\n",
       "      <td>261</td>\n",
       "      <td>171</td>\n",
       "    </tr>\n",
       "    <tr>\n",
       "      <td>91</td>\n",
       "      <td>7189</td>\n",
       "      <td>6383</td>\n",
       "      <td>18</td>\n",
       "      <td>707</td>\n",
       "      <td>7659</td>\n",
       "    </tr>\n",
       "    <tr>\n",
       "      <td>...</td>\n",
       "      <td>...</td>\n",
       "      <td>...</td>\n",
       "      <td>...</td>\n",
       "      <td>...</td>\n",
       "      <td>...</td>\n",
       "    </tr>\n",
       "    <tr>\n",
       "      <td>9832</td>\n",
       "      <td>3768</td>\n",
       "      <td>4269</td>\n",
       "      <td>6</td>\n",
       "      <td>976</td>\n",
       "      <td>5277</td>\n",
       "    </tr>\n",
       "    <tr>\n",
       "      <td>9867</td>\n",
       "      <td>5155</td>\n",
       "      <td>4383</td>\n",
       "      <td>32</td>\n",
       "      <td>313</td>\n",
       "      <td>5315</td>\n",
       "    </tr>\n",
       "    <tr>\n",
       "      <td>9887</td>\n",
       "      <td>7274</td>\n",
       "      <td>1007</td>\n",
       "      <td>43</td>\n",
       "      <td>693</td>\n",
       "      <td>77</td>\n",
       "    </tr>\n",
       "    <tr>\n",
       "      <td>9946</td>\n",
       "      <td>1741</td>\n",
       "      <td>845</td>\n",
       "      <td>19</td>\n",
       "      <td>700</td>\n",
       "      <td>73</td>\n",
       "    </tr>\n",
       "    <tr>\n",
       "      <td>9983</td>\n",
       "      <td>5635</td>\n",
       "      <td>195</td>\n",
       "      <td>49</td>\n",
       "      <td>351</td>\n",
       "      <td>654</td>\n",
       "    </tr>\n",
       "  </tbody>\n",
       "</table>\n",
       "<p>437 rows × 5 columns</p>\n",
       "</div>"
      ],
      "text/plain": [
       "      user_id  total_spend  count_saved_items  loyalty_credits  batch_id\n",
       "18       6791         4230                  5              486      5893\n",
       "45       4644          897                 20              870       660\n",
       "70         91         2204                  7              447      2250\n",
       "78       1376          324                 48              261       171\n",
       "91       7189         6383                 18              707      7659\n",
       "...       ...          ...                ...              ...       ...\n",
       "9832     3768         4269                  6              976      5277\n",
       "9867     5155         4383                 32              313      5315\n",
       "9887     7274         1007                 43              693        77\n",
       "9946     1741          845                 19              700        73\n",
       "9983     5635          195                 49              351       654\n",
       "\n",
       "[437 rows x 5 columns]"
      ]
     },
     "execution_count": 11,
     "metadata": {},
     "output_type": "execute_result"
    }
   ],
   "source": [
    "J_User_Summary[~AIQ_User_Summary['total_spend'].isin(J_User_Summary['total_spend'])].dropna()"
   ]
  },
  {
   "cell_type": "code",
   "execution_count": 12,
   "metadata": {},
   "outputs": [],
   "source": [
    "difference = J_User_Summary[~AIQ_User_Summary['total_spend'].isin(J_User_Summary['total_spend'])].dropna()"
   ]
  },
  {
   "cell_type": "code",
   "execution_count": 13,
   "metadata": {
    "scrolled": true
   },
   "outputs": [
    {
     "name": "stdout",
     "output_type": "stream",
     "text": [
      "1399958\n"
     ]
    }
   ],
   "source": [
    "difference_total = difference['total_spend'].sum()\n",
    "\n",
    "print (difference_total)"
   ]
  },
  {
   "cell_type": "code",
   "execution_count": 14,
   "metadata": {},
   "outputs": [],
   "source": [
    "df1 = J_User_Summary\n",
    "df2 = AIQ_User_Summary"
   ]
  },
  {
   "cell_type": "code",
   "execution_count": 15,
   "metadata": {},
   "outputs": [
    {
     "data": {
      "text/html": [
       "<div>\n",
       "<style scoped>\n",
       "    .dataframe tbody tr th:only-of-type {\n",
       "        vertical-align: middle;\n",
       "    }\n",
       "\n",
       "    .dataframe tbody tr th {\n",
       "        vertical-align: top;\n",
       "    }\n",
       "\n",
       "    .dataframe thead th {\n",
       "        text-align: right;\n",
       "    }\n",
       "</style>\n",
       "<table border=\"1\" class=\"dataframe\">\n",
       "  <thead>\n",
       "    <tr style=\"text-align: right;\">\n",
       "      <th></th>\n",
       "      <th>user_id</th>\n",
       "      <th>total_spend</th>\n",
       "      <th>count_saved_items</th>\n",
       "      <th>loyalty_credits</th>\n",
       "      <th>batch_id</th>\n",
       "    </tr>\n",
       "  </thead>\n",
       "  <tbody>\n",
       "    <tr>\n",
       "      <td>0</td>\n",
       "      <td>NaN</td>\n",
       "      <td>NaN</td>\n",
       "      <td>NaN</td>\n",
       "      <td>NaN</td>\n",
       "      <td>NaN</td>\n",
       "    </tr>\n",
       "    <tr>\n",
       "      <td>3</td>\n",
       "      <td>NaN</td>\n",
       "      <td>NaN</td>\n",
       "      <td>NaN</td>\n",
       "      <td>NaN</td>\n",
       "      <td>NaN</td>\n",
       "    </tr>\n",
       "    <tr>\n",
       "      <td>11</td>\n",
       "      <td>NaN</td>\n",
       "      <td>NaN</td>\n",
       "      <td>NaN</td>\n",
       "      <td>NaN</td>\n",
       "      <td>NaN</td>\n",
       "    </tr>\n",
       "    <tr>\n",
       "      <td>15</td>\n",
       "      <td>NaN</td>\n",
       "      <td>NaN</td>\n",
       "      <td>NaN</td>\n",
       "      <td>NaN</td>\n",
       "      <td>NaN</td>\n",
       "    </tr>\n",
       "    <tr>\n",
       "      <td>17</td>\n",
       "      <td>NaN</td>\n",
       "      <td>NaN</td>\n",
       "      <td>NaN</td>\n",
       "      <td>NaN</td>\n",
       "      <td>NaN</td>\n",
       "    </tr>\n",
       "    <tr>\n",
       "      <td>...</td>\n",
       "      <td>...</td>\n",
       "      <td>...</td>\n",
       "      <td>...</td>\n",
       "      <td>...</td>\n",
       "      <td>...</td>\n",
       "    </tr>\n",
       "    <tr>\n",
       "      <td>9973</td>\n",
       "      <td>NaN</td>\n",
       "      <td>NaN</td>\n",
       "      <td>NaN</td>\n",
       "      <td>NaN</td>\n",
       "      <td>NaN</td>\n",
       "    </tr>\n",
       "    <tr>\n",
       "      <td>9977</td>\n",
       "      <td>NaN</td>\n",
       "      <td>NaN</td>\n",
       "      <td>NaN</td>\n",
       "      <td>NaN</td>\n",
       "      <td>NaN</td>\n",
       "    </tr>\n",
       "    <tr>\n",
       "      <td>9983</td>\n",
       "      <td>NaN</td>\n",
       "      <td>NaN</td>\n",
       "      <td>NaN</td>\n",
       "      <td>NaN</td>\n",
       "      <td>NaN</td>\n",
       "    </tr>\n",
       "    <tr>\n",
       "      <td>9984</td>\n",
       "      <td>NaN</td>\n",
       "      <td>NaN</td>\n",
       "      <td>NaN</td>\n",
       "      <td>NaN</td>\n",
       "      <td>NaN</td>\n",
       "    </tr>\n",
       "    <tr>\n",
       "      <td>9990</td>\n",
       "      <td>NaN</td>\n",
       "      <td>NaN</td>\n",
       "      <td>NaN</td>\n",
       "      <td>NaN</td>\n",
       "      <td>NaN</td>\n",
       "    </tr>\n",
       "  </tbody>\n",
       "</table>\n",
       "<p>2192 rows × 5 columns</p>\n",
       "</div>"
      ],
      "text/plain": [
       "      user_id  total_spend  count_saved_items  loyalty_credits  batch_id\n",
       "0         NaN          NaN                NaN              NaN       NaN\n",
       "3         NaN          NaN                NaN              NaN       NaN\n",
       "11        NaN          NaN                NaN              NaN       NaN\n",
       "15        NaN          NaN                NaN              NaN       NaN\n",
       "17        NaN          NaN                NaN              NaN       NaN\n",
       "...       ...          ...                ...              ...       ...\n",
       "9973      NaN          NaN                NaN              NaN       NaN\n",
       "9977      NaN          NaN                NaN              NaN       NaN\n",
       "9983      NaN          NaN                NaN              NaN       NaN\n",
       "9984      NaN          NaN                NaN              NaN       NaN\n",
       "9990      NaN          NaN                NaN              NaN       NaN\n",
       "\n",
       "[2192 rows x 5 columns]"
      ]
     },
     "execution_count": 15,
     "metadata": {},
     "output_type": "execute_result"
    }
   ],
   "source": [
    "df2[~df1['total_spend'].isin(df2['total_spend'])].dropna() - df1[~df2['total_spend'].isin(df1['total_spend'])].dropna()\n",
    "\n"
   ]
  },
  {
   "cell_type": "code",
   "execution_count": 16,
   "metadata": {},
   "outputs": [
    {
     "name": "stdout",
     "output_type": "stream",
     "text": [
      "9993346\n"
     ]
    }
   ],
   "source": [
    "D0_Total = D_0['total_spend'].sum()\n",
    "\n",
    "print (D0_Total)"
   ]
  },
  {
   "cell_type": "code",
   "execution_count": 17,
   "metadata": {},
   "outputs": [
    {
     "data": {
      "text/html": [
       "<div>\n",
       "<style scoped>\n",
       "    .dataframe tbody tr th:only-of-type {\n",
       "        vertical-align: middle;\n",
       "    }\n",
       "\n",
       "    .dataframe tbody tr th {\n",
       "        vertical-align: top;\n",
       "    }\n",
       "\n",
       "    .dataframe thead th {\n",
       "        text-align: right;\n",
       "    }\n",
       "</style>\n",
       "<table border=\"1\" class=\"dataframe\">\n",
       "  <thead>\n",
       "    <tr style=\"text-align: right;\">\n",
       "      <th></th>\n",
       "      <th>user_id</th>\n",
       "      <th>total_spend</th>\n",
       "      <th>count_saved_items</th>\n",
       "      <th>loyalty_credits</th>\n",
       "      <th>batch_id</th>\n",
       "    </tr>\n",
       "  </thead>\n",
       "  <tbody>\n",
       "    <tr>\n",
       "      <td>0</td>\n",
       "      <td>1</td>\n",
       "      <td>1119</td>\n",
       "      <td>34</td>\n",
       "      <td>109</td>\n",
       "      <td>1536</td>\n",
       "    </tr>\n",
       "    <tr>\n",
       "      <td>1</td>\n",
       "      <td>2</td>\n",
       "      <td>271</td>\n",
       "      <td>4</td>\n",
       "      <td>305</td>\n",
       "      <td>1223</td>\n",
       "    </tr>\n",
       "    <tr>\n",
       "      <td>2</td>\n",
       "      <td>3</td>\n",
       "      <td>390</td>\n",
       "      <td>15</td>\n",
       "      <td>113</td>\n",
       "      <td>105</td>\n",
       "    </tr>\n",
       "    <tr>\n",
       "      <td>3</td>\n",
       "      <td>4</td>\n",
       "      <td>1689</td>\n",
       "      <td>39</td>\n",
       "      <td>690</td>\n",
       "      <td>1042</td>\n",
       "    </tr>\n",
       "    <tr>\n",
       "      <td>4</td>\n",
       "      <td>5</td>\n",
       "      <td>70</td>\n",
       "      <td>9</td>\n",
       "      <td>154</td>\n",
       "      <td>6</td>\n",
       "    </tr>\n",
       "  </tbody>\n",
       "</table>\n",
       "</div>"
      ],
      "text/plain": [
       "   user_id  total_spend  count_saved_items  loyalty_credits  batch_id\n",
       "0        1         1119                 34              109      1536\n",
       "1        2          271                  4              305      1223\n",
       "2        3          390                 15              113       105\n",
       "3        4         1689                 39              690      1042\n",
       "4        5           70                  9              154         6"
      ]
     },
     "execution_count": 17,
     "metadata": {},
     "output_type": "execute_result"
    }
   ],
   "source": [
    "D_0.head()"
   ]
  },
  {
   "cell_type": "code",
   "execution_count": 18,
   "metadata": {},
   "outputs": [
    {
     "name": "stdout",
     "output_type": "stream",
     "text": [
      "<class 'pandas.core.frame.DataFrame'>\n",
      "RangeIndex: 10000 entries, 0 to 9999\n",
      "Data columns (total 5 columns):\n",
      "user_id              10000 non-null int64\n",
      "total_spend          10000 non-null int64\n",
      "count_saved_items    10000 non-null int64\n",
      "loyalty_credits      10000 non-null int64\n",
      "batch_id             10000 non-null int64\n",
      "dtypes: int64(5)\n",
      "memory usage: 390.8 KB\n"
     ]
    }
   ],
   "source": [
    "D_0.info()"
   ]
  },
  {
   "cell_type": "code",
   "execution_count": 19,
   "metadata": {},
   "outputs": [
    {
     "name": "stdout",
     "output_type": "stream",
     "text": [
      "9993346\n"
     ]
    }
   ],
   "source": [
    "D0_Total = D_0['total_spend'].sum()\n",
    "\n",
    "print (D0_Total)"
   ]
  },
  {
   "cell_type": "code",
   "execution_count": 20,
   "metadata": {},
   "outputs": [
    {
     "data": {
      "text/html": [
       "<div>\n",
       "<style scoped>\n",
       "    .dataframe tbody tr th:only-of-type {\n",
       "        vertical-align: middle;\n",
       "    }\n",
       "\n",
       "    .dataframe tbody tr th {\n",
       "        vertical-align: top;\n",
       "    }\n",
       "\n",
       "    .dataframe thead th {\n",
       "        text-align: right;\n",
       "    }\n",
       "</style>\n",
       "<table border=\"1\" class=\"dataframe\">\n",
       "  <thead>\n",
       "    <tr style=\"text-align: right;\">\n",
       "      <th></th>\n",
       "      <th>user_id</th>\n",
       "      <th>total_spend</th>\n",
       "      <th>count_saved_items</th>\n",
       "      <th>loyalty_credits</th>\n",
       "      <th>batch_id</th>\n",
       "    </tr>\n",
       "  </thead>\n",
       "  <tbody>\n",
       "    <tr>\n",
       "      <td>0</td>\n",
       "      <td>8195</td>\n",
       "      <td>2662</td>\n",
       "      <td>36</td>\n",
       "      <td>263</td>\n",
       "      <td>2948</td>\n",
       "    </tr>\n",
       "    <tr>\n",
       "      <td>1</td>\n",
       "      <td>8196</td>\n",
       "      <td>2804</td>\n",
       "      <td>19</td>\n",
       "      <td>156</td>\n",
       "      <td>2071</td>\n",
       "    </tr>\n",
       "    <tr>\n",
       "      <td>2</td>\n",
       "      <td>10</td>\n",
       "      <td>2862</td>\n",
       "      <td>48</td>\n",
       "      <td>660</td>\n",
       "      <td>2019</td>\n",
       "    </tr>\n",
       "    <tr>\n",
       "      <td>3</td>\n",
       "      <td>8203</td>\n",
       "      <td>2231</td>\n",
       "      <td>49</td>\n",
       "      <td>866</td>\n",
       "      <td>2231</td>\n",
       "    </tr>\n",
       "    <tr>\n",
       "      <td>4</td>\n",
       "      <td>8206</td>\n",
       "      <td>2731</td>\n",
       "      <td>23</td>\n",
       "      <td>446</td>\n",
       "      <td>2367</td>\n",
       "    </tr>\n",
       "  </tbody>\n",
       "</table>\n",
       "</div>"
      ],
      "text/plain": [
       "   user_id  total_spend  count_saved_items  loyalty_credits  batch_id\n",
       "0     8195         2662                 36              263      2948\n",
       "1     8196         2804                 19              156      2071\n",
       "2       10         2862                 48              660      2019\n",
       "3     8203         2231                 49              866      2231\n",
       "4     8206         2731                 23              446      2367"
      ]
     },
     "execution_count": 20,
     "metadata": {},
     "output_type": "execute_result"
    }
   ],
   "source": [
    "D_1.head()"
   ]
  },
  {
   "cell_type": "code",
   "execution_count": 21,
   "metadata": {},
   "outputs": [
    {
     "name": "stdout",
     "output_type": "stream",
     "text": [
      "<class 'pandas.core.frame.DataFrame'>\n",
      "RangeIndex: 2494 entries, 0 to 2493\n",
      "Data columns (total 5 columns):\n",
      "user_id              2494 non-null int64\n",
      "total_spend          2494 non-null int64\n",
      "count_saved_items    2494 non-null int64\n",
      "loyalty_credits      2494 non-null int64\n",
      "batch_id             2494 non-null int64\n",
      "dtypes: int64(5)\n",
      "memory usage: 97.5 KB\n"
     ]
    }
   ],
   "source": [
    "D_1.info()"
   ]
  },
  {
   "cell_type": "code",
   "execution_count": 22,
   "metadata": {},
   "outputs": [
    {
     "name": "stdout",
     "output_type": "stream",
     "text": [
      "6212911\n"
     ]
    }
   ],
   "source": [
    "D1_Total = D_1['total_spend'].sum()\n",
    "\n",
    "print (D1_Total)"
   ]
  },
  {
   "cell_type": "code",
   "execution_count": 23,
   "metadata": {},
   "outputs": [
    {
     "data": {
      "text/html": [
       "<div>\n",
       "<style scoped>\n",
       "    .dataframe tbody tr th:only-of-type {\n",
       "        vertical-align: middle;\n",
       "    }\n",
       "\n",
       "    .dataframe tbody tr th {\n",
       "        vertical-align: top;\n",
       "    }\n",
       "\n",
       "    .dataframe thead th {\n",
       "        text-align: right;\n",
       "    }\n",
       "</style>\n",
       "<table border=\"1\" class=\"dataframe\">\n",
       "  <thead>\n",
       "    <tr style=\"text-align: right;\">\n",
       "      <th></th>\n",
       "      <th>user_id</th>\n",
       "      <th>total_spend</th>\n",
       "      <th>count_saved_items</th>\n",
       "      <th>loyalty_credits</th>\n",
       "      <th>batch_id</th>\n",
       "    </tr>\n",
       "  </thead>\n",
       "  <tbody>\n",
       "    <tr>\n",
       "      <td>0</td>\n",
       "      <td>8194</td>\n",
       "      <td>3169</td>\n",
       "      <td>14</td>\n",
       "      <td>123</td>\n",
       "      <td>3456</td>\n",
       "    </tr>\n",
       "    <tr>\n",
       "      <td>1</td>\n",
       "      <td>6</td>\n",
       "      <td>3907</td>\n",
       "      <td>11</td>\n",
       "      <td>659</td>\n",
       "      <td>3202</td>\n",
       "    </tr>\n",
       "    <tr>\n",
       "      <td>2</td>\n",
       "      <td>7</td>\n",
       "      <td>3561</td>\n",
       "      <td>16</td>\n",
       "      <td>694</td>\n",
       "      <td>3157</td>\n",
       "    </tr>\n",
       "    <tr>\n",
       "      <td>3</td>\n",
       "      <td>8</td>\n",
       "      <td>3340</td>\n",
       "      <td>17</td>\n",
       "      <td>289</td>\n",
       "      <td>3489</td>\n",
       "    </tr>\n",
       "    <tr>\n",
       "      <td>4</td>\n",
       "      <td>11</td>\n",
       "      <td>3626</td>\n",
       "      <td>41</td>\n",
       "      <td>454</td>\n",
       "      <td>4375</td>\n",
       "    </tr>\n",
       "  </tbody>\n",
       "</table>\n",
       "</div>"
      ],
      "text/plain": [
       "   user_id  total_spend  count_saved_items  loyalty_credits  batch_id\n",
       "0     8194         3169                 14              123      3456\n",
       "1        6         3907                 11              659      3202\n",
       "2        7         3561                 16              694      3157\n",
       "3        8         3340                 17              289      3489\n",
       "4       11         3626                 41              454      4375"
      ]
     },
     "execution_count": 23,
     "metadata": {},
     "output_type": "execute_result"
    }
   ],
   "source": [
    "D_2.head()"
   ]
  },
  {
   "cell_type": "code",
   "execution_count": 24,
   "metadata": {},
   "outputs": [
    {
     "name": "stdout",
     "output_type": "stream",
     "text": [
      "<class 'pandas.core.frame.DataFrame'>\n",
      "RangeIndex: 2519 entries, 0 to 2518\n",
      "Data columns (total 5 columns):\n",
      "user_id              2519 non-null int64\n",
      "total_spend          2519 non-null int64\n",
      "count_saved_items    2519 non-null int64\n",
      "loyalty_credits      2519 non-null int64\n",
      "batch_id             2519 non-null int64\n",
      "dtypes: int64(5)\n",
      "memory usage: 98.5 KB\n"
     ]
    }
   ],
   "source": [
    "D_2.info()"
   ]
  },
  {
   "cell_type": "code",
   "execution_count": 25,
   "metadata": {},
   "outputs": [
    {
     "name": "stdout",
     "output_type": "stream",
     "text": [
      "8820088\n"
     ]
    }
   ],
   "source": [
    "D2_Total = D_2['total_spend'].sum()\n",
    "\n",
    "print (D2_Total)"
   ]
  },
  {
   "cell_type": "code",
   "execution_count": 26,
   "metadata": {},
   "outputs": [
    {
     "data": {
      "text/html": [
       "<div>\n",
       "<style scoped>\n",
       "    .dataframe tbody tr th:only-of-type {\n",
       "        vertical-align: middle;\n",
       "    }\n",
       "\n",
       "    .dataframe tbody tr th {\n",
       "        vertical-align: top;\n",
       "    }\n",
       "\n",
       "    .dataframe thead th {\n",
       "        text-align: right;\n",
       "    }\n",
       "</style>\n",
       "<table border=\"1\" class=\"dataframe\">\n",
       "  <thead>\n",
       "    <tr style=\"text-align: right;\">\n",
       "      <th></th>\n",
       "      <th>user_id</th>\n",
       "      <th>total_spend</th>\n",
       "      <th>count_saved_items</th>\n",
       "      <th>loyalty_credits</th>\n",
       "      <th>batch_id</th>\n",
       "    </tr>\n",
       "  </thead>\n",
       "  <tbody>\n",
       "    <tr>\n",
       "      <td>0</td>\n",
       "      <td>1</td>\n",
       "      <td>4070</td>\n",
       "      <td>10</td>\n",
       "      <td>179</td>\n",
       "      <td>4940</td>\n",
       "    </tr>\n",
       "    <tr>\n",
       "      <td>1</td>\n",
       "      <td>3</td>\n",
       "      <td>4558</td>\n",
       "      <td>43</td>\n",
       "      <td>736</td>\n",
       "      <td>4510</td>\n",
       "    </tr>\n",
       "    <tr>\n",
       "      <td>2</td>\n",
       "      <td>8199</td>\n",
       "      <td>4663</td>\n",
       "      <td>8</td>\n",
       "      <td>728</td>\n",
       "      <td>4996</td>\n",
       "    </tr>\n",
       "    <tr>\n",
       "      <td>3</td>\n",
       "      <td>8</td>\n",
       "      <td>4991</td>\n",
       "      <td>24</td>\n",
       "      <td>480</td>\n",
       "      <td>5107</td>\n",
       "    </tr>\n",
       "    <tr>\n",
       "      <td>4</td>\n",
       "      <td>9</td>\n",
       "      <td>4379</td>\n",
       "      <td>16</td>\n",
       "      <td>148</td>\n",
       "      <td>4673</td>\n",
       "    </tr>\n",
       "  </tbody>\n",
       "</table>\n",
       "</div>"
      ],
      "text/plain": [
       "   user_id  total_spend  count_saved_items  loyalty_credits  batch_id\n",
       "0        1         4070                 10              179      4940\n",
       "1        3         4558                 43              736      4510\n",
       "2     8199         4663                  8              728      4996\n",
       "3        8         4991                 24              480      5107\n",
       "4        9         4379                 16              148      4673"
      ]
     },
     "execution_count": 26,
     "metadata": {},
     "output_type": "execute_result"
    }
   ],
   "source": [
    "D_3.head()"
   ]
  },
  {
   "cell_type": "code",
   "execution_count": 27,
   "metadata": {},
   "outputs": [
    {
     "name": "stdout",
     "output_type": "stream",
     "text": [
      "<class 'pandas.core.frame.DataFrame'>\n",
      "RangeIndex: 2473 entries, 0 to 2472\n",
      "Data columns (total 5 columns):\n",
      "user_id              2473 non-null int64\n",
      "total_spend          2473 non-null int64\n",
      "count_saved_items    2473 non-null int64\n",
      "loyalty_credits      2473 non-null int64\n",
      "batch_id             2473 non-null int64\n",
      "dtypes: int64(5)\n",
      "memory usage: 96.7 KB\n"
     ]
    }
   ],
   "source": [
    "D_3.info()"
   ]
  },
  {
   "cell_type": "code",
   "execution_count": 28,
   "metadata": {},
   "outputs": [
    {
     "name": "stdout",
     "output_type": "stream",
     "text": [
      "11131828\n"
     ]
    }
   ],
   "source": [
    "D3_Total = D_3['total_spend'].sum()\n",
    "\n",
    "print (D3_Total)"
   ]
  },
  {
   "cell_type": "code",
   "execution_count": 29,
   "metadata": {},
   "outputs": [
    {
     "data": {
      "text/html": [
       "<div>\n",
       "<style scoped>\n",
       "    .dataframe tbody tr th:only-of-type {\n",
       "        vertical-align: middle;\n",
       "    }\n",
       "\n",
       "    .dataframe tbody tr th {\n",
       "        vertical-align: top;\n",
       "    }\n",
       "\n",
       "    .dataframe thead th {\n",
       "        text-align: right;\n",
       "    }\n",
       "</style>\n",
       "<table border=\"1\" class=\"dataframe\">\n",
       "  <thead>\n",
       "    <tr style=\"text-align: right;\">\n",
       "      <th></th>\n",
       "      <th>user_id</th>\n",
       "      <th>total_spend</th>\n",
       "      <th>count_saved_items</th>\n",
       "      <th>loyalty_credits</th>\n",
       "      <th>batch_id</th>\n",
       "    </tr>\n",
       "  </thead>\n",
       "  <tbody>\n",
       "    <tr>\n",
       "      <td>0</td>\n",
       "      <td>8194</td>\n",
       "      <td>5105</td>\n",
       "      <td>40</td>\n",
       "      <td>402</td>\n",
       "      <td>6355</td>\n",
       "    </tr>\n",
       "    <tr>\n",
       "      <td>1</td>\n",
       "      <td>5</td>\n",
       "      <td>6755</td>\n",
       "      <td>3</td>\n",
       "      <td>360</td>\n",
       "      <td>7785</td>\n",
       "    </tr>\n",
       "    <tr>\n",
       "      <td>2</td>\n",
       "      <td>8198</td>\n",
       "      <td>6331</td>\n",
       "      <td>19</td>\n",
       "      <td>841</td>\n",
       "      <td>7210</td>\n",
       "    </tr>\n",
       "    <tr>\n",
       "      <td>3</td>\n",
       "      <td>8</td>\n",
       "      <td>6186</td>\n",
       "      <td>39</td>\n",
       "      <td>947</td>\n",
       "      <td>6789</td>\n",
       "    </tr>\n",
       "    <tr>\n",
       "      <td>4</td>\n",
       "      <td>10</td>\n",
       "      <td>5498</td>\n",
       "      <td>39</td>\n",
       "      <td>821</td>\n",
       "      <td>7966</td>\n",
       "    </tr>\n",
       "  </tbody>\n",
       "</table>\n",
       "</div>"
      ],
      "text/plain": [
       "   user_id  total_spend  count_saved_items  loyalty_credits  batch_id\n",
       "0     8194         5105                 40              402      6355\n",
       "1        5         6755                  3              360      7785\n",
       "2     8198         6331                 19              841      7210\n",
       "3        8         6186                 39              947      6789\n",
       "4       10         5498                 39              821      7966"
      ]
     },
     "execution_count": 29,
     "metadata": {},
     "output_type": "execute_result"
    }
   ],
   "source": [
    "D_4.head()"
   ]
  },
  {
   "cell_type": "code",
   "execution_count": 30,
   "metadata": {},
   "outputs": [
    {
     "name": "stdout",
     "output_type": "stream",
     "text": [
      "<class 'pandas.core.frame.DataFrame'>\n",
      "RangeIndex: 2483 entries, 0 to 2482\n",
      "Data columns (total 5 columns):\n",
      "user_id              2483 non-null int64\n",
      "total_spend          2483 non-null int64\n",
      "count_saved_items    2483 non-null int64\n",
      "loyalty_credits      2483 non-null int64\n",
      "batch_id             2483 non-null int64\n",
      "dtypes: int64(5)\n",
      "memory usage: 97.1 KB\n"
     ]
    }
   ],
   "source": [
    "D_4.info()"
   ]
  },
  {
   "cell_type": "code",
   "execution_count": 31,
   "metadata": {},
   "outputs": [
    {
     "name": "stdout",
     "output_type": "stream",
     "text": [
      "14897837\n"
     ]
    }
   ],
   "source": [
    "D4_Total = D_4['total_spend'].sum()\n",
    "\n",
    "print (D4_Total)"
   ]
  },
  {
   "cell_type": "code",
   "execution_count": null,
   "metadata": {},
   "outputs": [],
   "source": []
  }
 ],
 "metadata": {
  "kernelspec": {
   "display_name": "Python 3",
   "language": "python",
   "name": "python3"
  },
  "language_info": {
   "codemirror_mode": {
    "name": "ipython",
    "version": 3
   },
   "file_extension": ".py",
   "mimetype": "text/x-python",
   "name": "python",
   "nbconvert_exporter": "python",
   "pygments_lexer": "ipython3",
   "version": "3.7.1"
  }
 },
 "nbformat": 4,
 "nbformat_minor": 2
}
