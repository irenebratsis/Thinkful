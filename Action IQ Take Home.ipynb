{
 "cells": [
  {
   "cell_type": "markdown",
   "metadata": {},
   "source": [
    "#### Problem Overview:\n",
    "Johnny’s Jeans is a fashion start-up and a new customer of ActionIQ. The first campaign they want to create on our platform is a Thank-You message to all their first customers. They want to target their first 10,000 customers and send them some stats about their first year of sales.\n",
    "\n",
    "The Johnny’s Jeans finance team reported that the first 10,000 customers spent a collective $33,904,525 on their site. \n",
    "\n",
    "However when the marketing team ran the sum of total revenue on the AIQ platform, the total sum was a bit less at $29,162,044. The Johnny’s Jeans marketing team was concerned about this data discrepancy and has reached out to AIQ.\n",
    "\n",
    "#### Background of our integration with Johnny’s Jeans:\n",
    "1. Every few weeks, Johnny’s Jeans data warehouse does an export of their most recent rows from their user-summary table. This data is encrypted and dropped into an AWS S3 bucket.\n",
    "\n",
    "2. AIQ’s server is designed to ping that S3 bucket every 24 hours and when a new file is dropped, AIQ’s system is supposed to retrieve the new file for decryption.\n",
    "\n",
    "3. The decrypted user-summary data is in a CSV with these fields:\n",
    "\n",
    "    a. user_id\n",
    "    b. Total_spend (total this user has spent at Johnny’s Jeans)\n",
    "    c. count_saved_items (total amount of book-marked items)\n",
    "    d. loyalty_credits (amount of loyalty points the user can spend)\n",
    "    e. batch_id\n",
    "    \n",
    "4. AIQ’s\n",
    "\n",
    "the data by choosing the largest batch_id for each user. This ensures that AIQ should only be loading 1 row per user.\n",
    "data pipeline is designed to read through all the data files and de-duplicate\n",
    "\n",
    "5. Once that data is de-duplicated, it is loaded into AIQ’s platform and is ready for users to start running queries.\n",
    "\n",
    "#### Task Notes:\n",
    "1. We have provided the 5 of the decrypted files that were sent to us by Johnny’s Jeans.\n",
    "\n",
    "    a. Delta0.csv was their initial base set of data.\n",
    "    b. Deltas 1-4 were their update files.\n",
    "2. We have also sent you AIQ’s version of their user-summary table(AIQ-user-summary.csv). Johnny Jeans’ has exported the table on their end and we’ve sent you that as well (Johnny-user-summary.csv).\n"
   ]
  },
  {
   "cell_type": "markdown",
   "metadata": {},
   "source": [
    "#### Prompt 1. Figure out best you can what the problem is. Bear in mind that just like any software engineering effort, AIQ is not immune to bugs and things may not work perfectly as expected:\n",
    "\n",
    "#### Let's begin by loading the data in and taking a look at our two conflicting summaries, AIQ_User_Summary and J_User_Summary:\n"
   ]
  },
  {
   "cell_type": "code",
   "execution_count": 1,
   "metadata": {},
   "outputs": [],
   "source": [
    "import numpy as np\n",
    "import pandas as pd"
   ]
  },
  {
   "cell_type": "code",
   "execution_count": 2,
   "metadata": {},
   "outputs": [],
   "source": [
    "AIQ_User_Summary = pd.read_csv('/Users/ir3n3br4t515/Desktop/AIQ-user-summary.csv')\n",
    "J_User_Summary = pd.read_csv('/Users/ir3n3br4t515/Desktop/Johnny-user-summary.csv')\n",
    "D_0 = pd.read_csv('/Users/ir3n3br4t515/Desktop/delta0.csv')\n",
    "D_1 = pd.read_csv('/Users/ir3n3br4t515/Desktop/delta1.csv')\n",
    "D_2 = pd.read_csv('/Users/ir3n3br4t515/Desktop/delta2.csv')\n",
    "D_3 = pd.read_csv('/Users/ir3n3br4t515/Desktop/delta3.csv')\n",
    "D_4 = pd.read_csv('/Users/ir3n3br4t515/Desktop/delta4.csv')\n",
    "\n",
    "\n"
   ]
  },
  {
   "cell_type": "code",
   "execution_count": 3,
   "metadata": {},
   "outputs": [
    {
     "data": {
      "text/html": [
       "<div>\n",
       "<style scoped>\n",
       "    .dataframe tbody tr th:only-of-type {\n",
       "        vertical-align: middle;\n",
       "    }\n",
       "\n",
       "    .dataframe tbody tr th {\n",
       "        vertical-align: top;\n",
       "    }\n",
       "\n",
       "    .dataframe thead th {\n",
       "        text-align: right;\n",
       "    }\n",
       "</style>\n",
       "<table border=\"1\" class=\"dataframe\">\n",
       "  <thead>\n",
       "    <tr style=\"text-align: right;\">\n",
       "      <th></th>\n",
       "      <th>user_id</th>\n",
       "      <th>total_spend</th>\n",
       "      <th>count_saved_items</th>\n",
       "      <th>loyalty_credits</th>\n",
       "      <th>batch_id</th>\n",
       "    </tr>\n",
       "  </thead>\n",
       "  <tbody>\n",
       "    <tr>\n",
       "      <td>0</td>\n",
       "      <td>5988</td>\n",
       "      <td>3500</td>\n",
       "      <td>12</td>\n",
       "      <td>517</td>\n",
       "      <td>3164</td>\n",
       "    </tr>\n",
       "    <tr>\n",
       "      <td>1</td>\n",
       "      <td>5989</td>\n",
       "      <td>775</td>\n",
       "      <td>17</td>\n",
       "      <td>613</td>\n",
       "      <td>298</td>\n",
       "    </tr>\n",
       "    <tr>\n",
       "      <td>2</td>\n",
       "      <td>5982</td>\n",
       "      <td>1749</td>\n",
       "      <td>8</td>\n",
       "      <td>386</td>\n",
       "      <td>1489</td>\n",
       "    </tr>\n",
       "    <tr>\n",
       "      <td>3</td>\n",
       "      <td>5983</td>\n",
       "      <td>3061</td>\n",
       "      <td>7</td>\n",
       "      <td>905</td>\n",
       "      <td>4271</td>\n",
       "    </tr>\n",
       "    <tr>\n",
       "      <td>4</td>\n",
       "      <td>5980</td>\n",
       "      <td>3852</td>\n",
       "      <td>48</td>\n",
       "      <td>938</td>\n",
       "      <td>3496</td>\n",
       "    </tr>\n",
       "  </tbody>\n",
       "</table>\n",
       "</div>"
      ],
      "text/plain": [
       "   user_id  total_spend  count_saved_items  loyalty_credits  batch_id\n",
       "0     5988         3500                 12              517      3164\n",
       "1     5989          775                 17              613       298\n",
       "2     5982         1749                  8              386      1489\n",
       "3     5983         3061                  7              905      4271\n",
       "4     5980         3852                 48              938      3496"
      ]
     },
     "execution_count": 3,
     "metadata": {},
     "output_type": "execute_result"
    }
   ],
   "source": [
    "AIQ_User_Summary.head()"
   ]
  },
  {
   "cell_type": "code",
   "execution_count": 4,
   "metadata": {},
   "outputs": [
    {
     "name": "stdout",
     "output_type": "stream",
     "text": [
      "<class 'pandas.core.frame.DataFrame'>\n",
      "RangeIndex: 10000 entries, 0 to 9999\n",
      "Data columns (total 5 columns):\n",
      "user_id              10000 non-null int64\n",
      "total_spend          10000 non-null int64\n",
      "count_saved_items    10000 non-null int64\n",
      "loyalty_credits      10000 non-null int64\n",
      "batch_id             10000 non-null int64\n",
      "dtypes: int64(5)\n",
      "memory usage: 390.8 KB\n"
     ]
    }
   ],
   "source": [
    "AIQ_User_Summary.info()"
   ]
  },
  {
   "cell_type": "code",
   "execution_count": 5,
   "metadata": {},
   "outputs": [
    {
     "data": {
      "text/html": [
       "<div>\n",
       "<style scoped>\n",
       "    .dataframe tbody tr th:only-of-type {\n",
       "        vertical-align: middle;\n",
       "    }\n",
       "\n",
       "    .dataframe tbody tr th {\n",
       "        vertical-align: top;\n",
       "    }\n",
       "\n",
       "    .dataframe thead th {\n",
       "        text-align: right;\n",
       "    }\n",
       "</style>\n",
       "<table border=\"1\" class=\"dataframe\">\n",
       "  <thead>\n",
       "    <tr style=\"text-align: right;\">\n",
       "      <th></th>\n",
       "      <th>user_id</th>\n",
       "      <th>total_spend</th>\n",
       "      <th>count_saved_items</th>\n",
       "      <th>loyalty_credits</th>\n",
       "      <th>batch_id</th>\n",
       "    </tr>\n",
       "  </thead>\n",
       "  <tbody>\n",
       "    <tr>\n",
       "      <td>0</td>\n",
       "      <td>5988</td>\n",
       "      <td>4208</td>\n",
       "      <td>20</td>\n",
       "      <td>287</td>\n",
       "      <td>5731</td>\n",
       "    </tr>\n",
       "    <tr>\n",
       "      <td>1</td>\n",
       "      <td>5989</td>\n",
       "      <td>775</td>\n",
       "      <td>17</td>\n",
       "      <td>613</td>\n",
       "      <td>298</td>\n",
       "    </tr>\n",
       "    <tr>\n",
       "      <td>2</td>\n",
       "      <td>5982</td>\n",
       "      <td>1749</td>\n",
       "      <td>8</td>\n",
       "      <td>386</td>\n",
       "      <td>1489</td>\n",
       "    </tr>\n",
       "    <tr>\n",
       "      <td>3</td>\n",
       "      <td>5983</td>\n",
       "      <td>4537</td>\n",
       "      <td>17</td>\n",
       "      <td>151</td>\n",
       "      <td>4623</td>\n",
       "    </tr>\n",
       "    <tr>\n",
       "      <td>4</td>\n",
       "      <td>5980</td>\n",
       "      <td>3852</td>\n",
       "      <td>48</td>\n",
       "      <td>938</td>\n",
       "      <td>3496</td>\n",
       "    </tr>\n",
       "  </tbody>\n",
       "</table>\n",
       "</div>"
      ],
      "text/plain": [
       "   user_id  total_spend  count_saved_items  loyalty_credits  batch_id\n",
       "0     5988         4208                 20              287      5731\n",
       "1     5989          775                 17              613       298\n",
       "2     5982         1749                  8              386      1489\n",
       "3     5983         4537                 17              151      4623\n",
       "4     5980         3852                 48              938      3496"
      ]
     },
     "execution_count": 5,
     "metadata": {},
     "output_type": "execute_result"
    }
   ],
   "source": [
    "J_User_Summary.head()"
   ]
  },
  {
   "cell_type": "code",
   "execution_count": 6,
   "metadata": {},
   "outputs": [
    {
     "name": "stdout",
     "output_type": "stream",
     "text": [
      "<class 'pandas.core.frame.DataFrame'>\n",
      "RangeIndex: 10000 entries, 0 to 9999\n",
      "Data columns (total 5 columns):\n",
      "user_id              10000 non-null int64\n",
      "total_spend          10000 non-null int64\n",
      "count_saved_items    10000 non-null int64\n",
      "loyalty_credits      10000 non-null int64\n",
      "batch_id             10000 non-null int64\n",
      "dtypes: int64(5)\n",
      "memory usage: 390.8 KB\n"
     ]
    }
   ],
   "source": [
    "J_User_Summary.info()"
   ]
  },
  {
   "cell_type": "code",
   "execution_count": 7,
   "metadata": {},
   "outputs": [
    {
     "name": "stdout",
     "output_type": "stream",
     "text": [
      "29162044\n"
     ]
    }
   ],
   "source": [
    "AIQ_Total = AIQ_User_Summary['total_spend'].sum()\n",
    "\n",
    "print (AIQ_Total)"
   ]
  },
  {
   "cell_type": "code",
   "execution_count": 8,
   "metadata": {},
   "outputs": [
    {
     "name": "stdout",
     "output_type": "stream",
     "text": [
      "33904525\n"
     ]
    }
   ],
   "source": [
    "J_Total = J_User_Summary['total_spend'].sum()\n",
    "\n",
    "print (J_Total)"
   ]
  },
  {
   "cell_type": "code",
   "execution_count": 9,
   "metadata": {},
   "outputs": [
    {
     "data": {
      "text/plain": [
       "4742481"
      ]
     },
     "execution_count": 9,
     "metadata": {},
     "output_type": "execute_result"
    }
   ],
   "source": [
    "J_Total - AIQ_Total"
   ]
  },
  {
   "cell_type": "markdown",
   "metadata": {},
   "source": [
    "#### Great! So we are looking for a discrepancy of $4,742,281. \n",
    "\n",
    "#### Let's see if we can pinpoint a few more differences by isolating exactly what's not adding up. We see below that there is a discrepancy in our 'total_spend' columns, which we already knew, lets see how many of the rows in this column are affected. \n",
    "\n",
    "What's worrisome here is the total_spend, batch_id and user_id columns all do not match. This might be because the updates havent yet occured or maybe there's a disconnect in the Action IQ platform or a bug. "
   ]
  },
  {
   "cell_type": "code",
   "execution_count": 10,
   "metadata": {},
   "outputs": [
    {
     "data": {
      "text/plain": [
       "False"
      ]
     },
     "execution_count": 10,
     "metadata": {},
     "output_type": "execute_result"
    }
   ],
   "source": [
    "\n",
    "J_User_Summary['total_spend'].equals(AIQ_User_Summary['total_spend'])\n",
    "\n"
   ]
  },
  {
   "cell_type": "code",
   "execution_count": 48,
   "metadata": {},
   "outputs": [
    {
     "data": {
      "text/plain": [
       "False"
      ]
     },
     "execution_count": 48,
     "metadata": {},
     "output_type": "execute_result"
    }
   ],
   "source": [
    "\n",
    "J_User_Summary['batch_id'].equals(AIQ_User_Summary['batch_id'])\n",
    "\n"
   ]
  },
  {
   "cell_type": "code",
   "execution_count": 49,
   "metadata": {},
   "outputs": [
    {
     "data": {
      "text/plain": [
       "False"
      ]
     },
     "execution_count": 49,
     "metadata": {},
     "output_type": "execute_result"
    }
   ],
   "source": [
    "\n",
    "J_User_Summary['user_id'].equals(AIQ_User_Summary['user_id'])\n",
    "\n"
   ]
  },
  {
   "cell_type": "code",
   "execution_count": 11,
   "metadata": {},
   "outputs": [],
   "source": [
    "df1 = J_User_Summary\n",
    "df2 = AIQ_User_Summary"
   ]
  },
  {
   "cell_type": "code",
   "execution_count": 12,
   "metadata": {},
   "outputs": [
    {
     "data": {
      "text/html": [
       "<div>\n",
       "<style scoped>\n",
       "    .dataframe tbody tr th:only-of-type {\n",
       "        vertical-align: middle;\n",
       "    }\n",
       "\n",
       "    .dataframe tbody tr th {\n",
       "        vertical-align: top;\n",
       "    }\n",
       "\n",
       "    .dataframe thead th {\n",
       "        text-align: right;\n",
       "    }\n",
       "</style>\n",
       "<table border=\"1\" class=\"dataframe\">\n",
       "  <thead>\n",
       "    <tr style=\"text-align: right;\">\n",
       "      <th></th>\n",
       "      <th>user_id</th>\n",
       "      <th>total_spend</th>\n",
       "      <th>count_saved_items</th>\n",
       "      <th>loyalty_credits</th>\n",
       "      <th>batch_id</th>\n",
       "    </tr>\n",
       "  </thead>\n",
       "  <tbody>\n",
       "    <tr>\n",
       "      <td>0</td>\n",
       "      <td>5988</td>\n",
       "      <td>3500</td>\n",
       "      <td>12</td>\n",
       "      <td>517</td>\n",
       "      <td>3164</td>\n",
       "    </tr>\n",
       "  </tbody>\n",
       "</table>\n",
       "</div>"
      ],
      "text/plain": [
       "   user_id  total_spend  count_saved_items  loyalty_credits  batch_id\n",
       "0     5988         3500                 12              517      3164"
      ]
     },
     "execution_count": 12,
     "metadata": {},
     "output_type": "execute_result"
    }
   ],
   "source": [
    "df2.head(1)"
   ]
  },
  {
   "cell_type": "code",
   "execution_count": 13,
   "metadata": {},
   "outputs": [
    {
     "data": {
      "text/html": [
       "<div>\n",
       "<style scoped>\n",
       "    .dataframe tbody tr th:only-of-type {\n",
       "        vertical-align: middle;\n",
       "    }\n",
       "\n",
       "    .dataframe tbody tr th {\n",
       "        vertical-align: top;\n",
       "    }\n",
       "\n",
       "    .dataframe thead th {\n",
       "        text-align: right;\n",
       "    }\n",
       "</style>\n",
       "<table border=\"1\" class=\"dataframe\">\n",
       "  <thead>\n",
       "    <tr style=\"text-align: right;\">\n",
       "      <th></th>\n",
       "      <th>user_id</th>\n",
       "      <th>total_spend</th>\n",
       "      <th>count_saved_items</th>\n",
       "      <th>loyalty_credits</th>\n",
       "      <th>batch_id</th>\n",
       "    </tr>\n",
       "  </thead>\n",
       "  <tbody>\n",
       "    <tr>\n",
       "      <td>0</td>\n",
       "      <td>5988</td>\n",
       "      <td>4208</td>\n",
       "      <td>20</td>\n",
       "      <td>287</td>\n",
       "      <td>5731</td>\n",
       "    </tr>\n",
       "  </tbody>\n",
       "</table>\n",
       "</div>"
      ],
      "text/plain": [
       "   user_id  total_spend  count_saved_items  loyalty_credits  batch_id\n",
       "0     5988         4208                 20              287      5731"
      ]
     },
     "execution_count": 13,
     "metadata": {},
     "output_type": "execute_result"
    }
   ],
   "source": [
    "df1.head(1)"
   ]
  },
  {
   "cell_type": "code",
   "execution_count": 14,
   "metadata": {},
   "outputs": [
    {
     "data": {
      "text/html": [
       "<div>\n",
       "<style scoped>\n",
       "    .dataframe tbody tr th:only-of-type {\n",
       "        vertical-align: middle;\n",
       "    }\n",
       "\n",
       "    .dataframe tbody tr th {\n",
       "        vertical-align: top;\n",
       "    }\n",
       "\n",
       "    .dataframe thead th {\n",
       "        text-align: right;\n",
       "    }\n",
       "</style>\n",
       "<table border=\"1\" class=\"dataframe\">\n",
       "  <thead>\n",
       "    <tr style=\"text-align: right;\">\n",
       "      <th></th>\n",
       "      <th>user_id</th>\n",
       "      <th>total_spend</th>\n",
       "      <th>count_saved_items</th>\n",
       "      <th>loyalty_credits</th>\n",
       "      <th>batch_id</th>\n",
       "    </tr>\n",
       "  </thead>\n",
       "  <tbody>\n",
       "    <tr>\n",
       "      <td>0</td>\n",
       "      <td>0</td>\n",
       "      <td>708</td>\n",
       "      <td>8</td>\n",
       "      <td>-230</td>\n",
       "      <td>2567</td>\n",
       "    </tr>\n",
       "    <tr>\n",
       "      <td>3</td>\n",
       "      <td>0</td>\n",
       "      <td>1476</td>\n",
       "      <td>10</td>\n",
       "      <td>-754</td>\n",
       "      <td>352</td>\n",
       "    </tr>\n",
       "    <tr>\n",
       "      <td>10</td>\n",
       "      <td>174</td>\n",
       "      <td>540</td>\n",
       "      <td>18</td>\n",
       "      <td>-702</td>\n",
       "      <td>-591</td>\n",
       "    </tr>\n",
       "    <tr>\n",
       "      <td>11</td>\n",
       "      <td>-1</td>\n",
       "      <td>3895</td>\n",
       "      <td>-11</td>\n",
       "      <td>-424</td>\n",
       "      <td>3837</td>\n",
       "    </tr>\n",
       "    <tr>\n",
       "      <td>12</td>\n",
       "      <td>3</td>\n",
       "      <td>-6141</td>\n",
       "      <td>-35</td>\n",
       "      <td>549</td>\n",
       "      <td>-5722</td>\n",
       "    </tr>\n",
       "    <tr>\n",
       "      <td>...</td>\n",
       "      <td>...</td>\n",
       "      <td>...</td>\n",
       "      <td>...</td>\n",
       "      <td>...</td>\n",
       "      <td>...</td>\n",
       "    </tr>\n",
       "    <tr>\n",
       "      <td>9995</td>\n",
       "      <td>-1</td>\n",
       "      <td>2888</td>\n",
       "      <td>-9</td>\n",
       "      <td>-19</td>\n",
       "      <td>3086</td>\n",
       "    </tr>\n",
       "    <tr>\n",
       "      <td>9996</td>\n",
       "      <td>-1</td>\n",
       "      <td>2951</td>\n",
       "      <td>-13</td>\n",
       "      <td>195</td>\n",
       "      <td>2900</td>\n",
       "    </tr>\n",
       "    <tr>\n",
       "      <td>9997</td>\n",
       "      <td>-1</td>\n",
       "      <td>-1685</td>\n",
       "      <td>36</td>\n",
       "      <td>-263</td>\n",
       "      <td>-209</td>\n",
       "    </tr>\n",
       "    <tr>\n",
       "      <td>9998</td>\n",
       "      <td>-1</td>\n",
       "      <td>-2151</td>\n",
       "      <td>-1</td>\n",
       "      <td>-143</td>\n",
       "      <td>-2471</td>\n",
       "    </tr>\n",
       "    <tr>\n",
       "      <td>9999</td>\n",
       "      <td>1025</td>\n",
       "      <td>99</td>\n",
       "      <td>4</td>\n",
       "      <td>290</td>\n",
       "      <td>96</td>\n",
       "    </tr>\n",
       "  </tbody>\n",
       "</table>\n",
       "<p>9969 rows × 5 columns</p>\n",
       "</div>"
      ],
      "text/plain": [
       "      user_id  total_spend  count_saved_items  loyalty_credits  batch_id\n",
       "0           0          708                  8             -230      2567\n",
       "3           0         1476                 10             -754       352\n",
       "10        174          540                 18             -702      -591\n",
       "11         -1         3895                -11             -424      3837\n",
       "12          3        -6141                -35              549     -5722\n",
       "...       ...          ...                ...              ...       ...\n",
       "9995       -1         2888                 -9              -19      3086\n",
       "9996       -1         2951                -13              195      2900\n",
       "9997       -1        -1685                 36             -263      -209\n",
       "9998       -1        -2151                 -1             -143     -2471\n",
       "9999     1025           99                  4              290        96\n",
       "\n",
       "[9969 rows x 5 columns]"
      ]
     },
     "execution_count": 14,
     "metadata": {},
     "output_type": "execute_result"
    }
   ],
   "source": [
    "intersection = pd.merge(df1.reset_index(), df2.reset_index(), on=['index','total_spend'], how='inner')\n",
    "df1[~df1.index.isin(intersection['index'])] - df2[~df2.index.isin(intersection['index'])]\n",
    "\n"
   ]
  },
  {
   "cell_type": "code",
   "execution_count": 15,
   "metadata": {},
   "outputs": [
    {
     "data": {
      "text/plain": [
       "4742481"
      ]
     },
     "execution_count": 15,
     "metadata": {},
     "output_type": "execute_result"
    }
   ],
   "source": [
    "(df1[~df1.index.isin(intersection['index'])]['total_spend'] - df2[~df2.index.isin(intersection['index'])]['total_spend']).sum()\n"
   ]
  },
  {
   "cell_type": "markdown",
   "metadata": {},
   "source": [
    "#### Ok, so our analysis above proved that almost every row (9969 to be exact) had a delta between the two user summary reports from AIQ and Johnny's. The sum of these discrepancies was exactly $4,742,481 which means we can trust the differences we see in the table of cell 13. \n",
    "\n",
    "Now let's take a look at the batch_id unique values for each of our User Summarys for comparison. AIQ’s data pipeline is designed to read through all the data by choosing the largest batch_id for each user. This ensures that AIQ should only be loading 1 row per user, let's see if that's the case with Johnny's Jeans user summary:"
   ]
  },
  {
   "cell_type": "code",
   "execution_count": 16,
   "metadata": {},
   "outputs": [
    {
     "data": {
      "text/plain": [
       "5021"
      ]
     },
     "execution_count": 16,
     "metadata": {},
     "output_type": "execute_result"
    }
   ],
   "source": [
    "len(AIQ_User_Summary['batch_id'].unique().tolist())\n"
   ]
  },
  {
   "cell_type": "code",
   "execution_count": 17,
   "metadata": {},
   "outputs": [
    {
     "data": {
      "text/plain": [
       "5667"
      ]
     },
     "execution_count": 17,
     "metadata": {},
     "output_type": "execute_result"
    }
   ],
   "source": [
    "len(J_User_Summary['batch_id'].unique().tolist())\n"
   ]
  },
  {
   "cell_type": "code",
   "execution_count": 18,
   "metadata": {},
   "outputs": [
    {
     "data": {
      "text/plain": [
       "646"
      ]
     },
     "execution_count": 18,
     "metadata": {},
     "output_type": "execute_result"
    }
   ],
   "source": [
    "5667 - 5021"
   ]
  },
  {
   "cell_type": "markdown",
   "metadata": {},
   "source": [
    "#### Great, that solves a bit of our discrepancy. There are 646 more batch_id values in the J_User_Summary than there are in the AIQ_User_Summary. \n",
    "\n",
    "#### This suggests Johnny's Jeans has allowed multiple entries for each user, however they both have the same number of user_ids, 10,000 per file based on the two cells below:\n",
    "\n"
   ]
  },
  {
   "cell_type": "code",
   "execution_count": 19,
   "metadata": {},
   "outputs": [
    {
     "data": {
      "text/plain": [
       "10000"
      ]
     },
     "execution_count": 19,
     "metadata": {},
     "output_type": "execute_result"
    }
   ],
   "source": [
    "len(AIQ_User_Summary['user_id'].unique().tolist())\n"
   ]
  },
  {
   "cell_type": "code",
   "execution_count": 20,
   "metadata": {},
   "outputs": [
    {
     "data": {
      "text/plain": [
       "10000"
      ]
     },
     "execution_count": 20,
     "metadata": {},
     "output_type": "execute_result"
    }
   ],
   "source": [
    "len(J_User_Summary['user_id'].unique().tolist())\n"
   ]
  },
  {
   "cell_type": "markdown",
   "metadata": {},
   "source": [
    "#### Now let's move onto the delta files from Johnny's to see if they give us any further insight, and to confirm if this is also the case there as well. If it is, we should see different values for batch_id there as well.  I am most curious to see if the batch_ids from these files add up to the number of unique batch_ids from Johnny's user summary. "
   ]
  },
  {
   "cell_type": "code",
   "execution_count": 21,
   "metadata": {},
   "outputs": [
    {
     "name": "stdout",
     "output_type": "stream",
     "text": [
      "9993346\n"
     ]
    }
   ],
   "source": [
    "D0_Total = D_0['total_spend'].sum()\n",
    "\n",
    "print (D0_Total)"
   ]
  },
  {
   "cell_type": "code",
   "execution_count": 22,
   "metadata": {},
   "outputs": [
    {
     "data": {
      "text/html": [
       "<div>\n",
       "<style scoped>\n",
       "    .dataframe tbody tr th:only-of-type {\n",
       "        vertical-align: middle;\n",
       "    }\n",
       "\n",
       "    .dataframe tbody tr th {\n",
       "        vertical-align: top;\n",
       "    }\n",
       "\n",
       "    .dataframe thead th {\n",
       "        text-align: right;\n",
       "    }\n",
       "</style>\n",
       "<table border=\"1\" class=\"dataframe\">\n",
       "  <thead>\n",
       "    <tr style=\"text-align: right;\">\n",
       "      <th></th>\n",
       "      <th>user_id</th>\n",
       "      <th>total_spend</th>\n",
       "      <th>count_saved_items</th>\n",
       "      <th>loyalty_credits</th>\n",
       "      <th>batch_id</th>\n",
       "    </tr>\n",
       "  </thead>\n",
       "  <tbody>\n",
       "    <tr>\n",
       "      <td>0</td>\n",
       "      <td>1</td>\n",
       "      <td>1119</td>\n",
       "      <td>34</td>\n",
       "      <td>109</td>\n",
       "      <td>1536</td>\n",
       "    </tr>\n",
       "    <tr>\n",
       "      <td>1</td>\n",
       "      <td>2</td>\n",
       "      <td>271</td>\n",
       "      <td>4</td>\n",
       "      <td>305</td>\n",
       "      <td>1223</td>\n",
       "    </tr>\n",
       "    <tr>\n",
       "      <td>2</td>\n",
       "      <td>3</td>\n",
       "      <td>390</td>\n",
       "      <td>15</td>\n",
       "      <td>113</td>\n",
       "      <td>105</td>\n",
       "    </tr>\n",
       "    <tr>\n",
       "      <td>3</td>\n",
       "      <td>4</td>\n",
       "      <td>1689</td>\n",
       "      <td>39</td>\n",
       "      <td>690</td>\n",
       "      <td>1042</td>\n",
       "    </tr>\n",
       "    <tr>\n",
       "      <td>4</td>\n",
       "      <td>5</td>\n",
       "      <td>70</td>\n",
       "      <td>9</td>\n",
       "      <td>154</td>\n",
       "      <td>6</td>\n",
       "    </tr>\n",
       "  </tbody>\n",
       "</table>\n",
       "</div>"
      ],
      "text/plain": [
       "   user_id  total_spend  count_saved_items  loyalty_credits  batch_id\n",
       "0        1         1119                 34              109      1536\n",
       "1        2          271                  4              305      1223\n",
       "2        3          390                 15              113       105\n",
       "3        4         1689                 39              690      1042\n",
       "4        5           70                  9              154         6"
      ]
     },
     "execution_count": 22,
     "metadata": {},
     "output_type": "execute_result"
    }
   ],
   "source": [
    "D_0.head()"
   ]
  },
  {
   "cell_type": "code",
   "execution_count": 23,
   "metadata": {},
   "outputs": [
    {
     "name": "stdout",
     "output_type": "stream",
     "text": [
      "<class 'pandas.core.frame.DataFrame'>\n",
      "RangeIndex: 10000 entries, 0 to 9999\n",
      "Data columns (total 5 columns):\n",
      "user_id              10000 non-null int64\n",
      "total_spend          10000 non-null int64\n",
      "count_saved_items    10000 non-null int64\n",
      "loyalty_credits      10000 non-null int64\n",
      "batch_id             10000 non-null int64\n",
      "dtypes: int64(5)\n",
      "memory usage: 390.8 KB\n"
     ]
    }
   ],
   "source": [
    "D_0.info()"
   ]
  },
  {
   "cell_type": "code",
   "execution_count": 24,
   "metadata": {},
   "outputs": [
    {
     "name": "stdout",
     "output_type": "stream",
     "text": [
      "9993346\n"
     ]
    }
   ],
   "source": [
    "D0_Total = D_0['total_spend'].sum()\n",
    "\n",
    "print (D0_Total)"
   ]
  },
  {
   "cell_type": "code",
   "execution_count": 25,
   "metadata": {},
   "outputs": [
    {
     "data": {
      "text/plain": [
       "10000"
      ]
     },
     "execution_count": 25,
     "metadata": {},
     "output_type": "execute_result"
    }
   ],
   "source": [
    "len(D_0['user_id'].unique().tolist())\n"
   ]
  },
  {
   "cell_type": "code",
   "execution_count": 26,
   "metadata": {},
   "outputs": [
    {
     "data": {
      "text/plain": [
       "1989"
      ]
     },
     "execution_count": 26,
     "metadata": {},
     "output_type": "execute_result"
    }
   ],
   "source": [
    "len(D_0['batch_id'].unique().tolist())\n"
   ]
  },
  {
   "cell_type": "markdown",
   "metadata": {},
   "source": [
    "#### So far, we see 1989 unique batch_id values and 10,000 user_ids. Let's see if this trend continues with the remaining files. "
   ]
  },
  {
   "cell_type": "code",
   "execution_count": 27,
   "metadata": {},
   "outputs": [
    {
     "data": {
      "text/html": [
       "<div>\n",
       "<style scoped>\n",
       "    .dataframe tbody tr th:only-of-type {\n",
       "        vertical-align: middle;\n",
       "    }\n",
       "\n",
       "    .dataframe tbody tr th {\n",
       "        vertical-align: top;\n",
       "    }\n",
       "\n",
       "    .dataframe thead th {\n",
       "        text-align: right;\n",
       "    }\n",
       "</style>\n",
       "<table border=\"1\" class=\"dataframe\">\n",
       "  <thead>\n",
       "    <tr style=\"text-align: right;\">\n",
       "      <th></th>\n",
       "      <th>user_id</th>\n",
       "      <th>total_spend</th>\n",
       "      <th>count_saved_items</th>\n",
       "      <th>loyalty_credits</th>\n",
       "      <th>batch_id</th>\n",
       "    </tr>\n",
       "  </thead>\n",
       "  <tbody>\n",
       "    <tr>\n",
       "      <td>0</td>\n",
       "      <td>8195</td>\n",
       "      <td>2662</td>\n",
       "      <td>36</td>\n",
       "      <td>263</td>\n",
       "      <td>2948</td>\n",
       "    </tr>\n",
       "    <tr>\n",
       "      <td>1</td>\n",
       "      <td>8196</td>\n",
       "      <td>2804</td>\n",
       "      <td>19</td>\n",
       "      <td>156</td>\n",
       "      <td>2071</td>\n",
       "    </tr>\n",
       "    <tr>\n",
       "      <td>2</td>\n",
       "      <td>10</td>\n",
       "      <td>2862</td>\n",
       "      <td>48</td>\n",
       "      <td>660</td>\n",
       "      <td>2019</td>\n",
       "    </tr>\n",
       "    <tr>\n",
       "      <td>3</td>\n",
       "      <td>8203</td>\n",
       "      <td>2231</td>\n",
       "      <td>49</td>\n",
       "      <td>866</td>\n",
       "      <td>2231</td>\n",
       "    </tr>\n",
       "    <tr>\n",
       "      <td>4</td>\n",
       "      <td>8206</td>\n",
       "      <td>2731</td>\n",
       "      <td>23</td>\n",
       "      <td>446</td>\n",
       "      <td>2367</td>\n",
       "    </tr>\n",
       "  </tbody>\n",
       "</table>\n",
       "</div>"
      ],
      "text/plain": [
       "   user_id  total_spend  count_saved_items  loyalty_credits  batch_id\n",
       "0     8195         2662                 36              263      2948\n",
       "1     8196         2804                 19              156      2071\n",
       "2       10         2862                 48              660      2019\n",
       "3     8203         2231                 49              866      2231\n",
       "4     8206         2731                 23              446      2367"
      ]
     },
     "execution_count": 27,
     "metadata": {},
     "output_type": "execute_result"
    }
   ],
   "source": [
    "D_1.head()"
   ]
  },
  {
   "cell_type": "code",
   "execution_count": 28,
   "metadata": {},
   "outputs": [
    {
     "name": "stdout",
     "output_type": "stream",
     "text": [
      "<class 'pandas.core.frame.DataFrame'>\n",
      "RangeIndex: 2494 entries, 0 to 2493\n",
      "Data columns (total 5 columns):\n",
      "user_id              2494 non-null int64\n",
      "total_spend          2494 non-null int64\n",
      "count_saved_items    2494 non-null int64\n",
      "loyalty_credits      2494 non-null int64\n",
      "batch_id             2494 non-null int64\n",
      "dtypes: int64(5)\n",
      "memory usage: 97.5 KB\n"
     ]
    }
   ],
   "source": [
    "D_1.info()"
   ]
  },
  {
   "cell_type": "code",
   "execution_count": 29,
   "metadata": {},
   "outputs": [
    {
     "name": "stdout",
     "output_type": "stream",
     "text": [
      "6212911\n"
     ]
    }
   ],
   "source": [
    "D1_Total = D_1['total_spend'].sum()\n",
    "\n",
    "print (D1_Total)"
   ]
  },
  {
   "cell_type": "code",
   "execution_count": 30,
   "metadata": {},
   "outputs": [
    {
     "data": {
      "text/plain": [
       "2494"
      ]
     },
     "execution_count": 30,
     "metadata": {},
     "output_type": "execute_result"
    }
   ],
   "source": [
    "len(D_1['user_id'].unique().tolist())\n"
   ]
  },
  {
   "cell_type": "code",
   "execution_count": 31,
   "metadata": {},
   "outputs": [
    {
     "data": {
      "text/plain": [
       "919"
      ]
     },
     "execution_count": 31,
     "metadata": {},
     "output_type": "execute_result"
    }
   ],
   "source": [
    "len(D_1['batch_id'].unique().tolist())\n"
   ]
  },
  {
   "cell_type": "markdown",
   "metadata": {},
   "source": [
    "#### Confirmed here as well, 919 batch_ids to 2494 user_ids (one for each row)"
   ]
  },
  {
   "cell_type": "code",
   "execution_count": 32,
   "metadata": {},
   "outputs": [
    {
     "data": {
      "text/html": [
       "<div>\n",
       "<style scoped>\n",
       "    .dataframe tbody tr th:only-of-type {\n",
       "        vertical-align: middle;\n",
       "    }\n",
       "\n",
       "    .dataframe tbody tr th {\n",
       "        vertical-align: top;\n",
       "    }\n",
       "\n",
       "    .dataframe thead th {\n",
       "        text-align: right;\n",
       "    }\n",
       "</style>\n",
       "<table border=\"1\" class=\"dataframe\">\n",
       "  <thead>\n",
       "    <tr style=\"text-align: right;\">\n",
       "      <th></th>\n",
       "      <th>user_id</th>\n",
       "      <th>total_spend</th>\n",
       "      <th>count_saved_items</th>\n",
       "      <th>loyalty_credits</th>\n",
       "      <th>batch_id</th>\n",
       "    </tr>\n",
       "  </thead>\n",
       "  <tbody>\n",
       "    <tr>\n",
       "      <td>0</td>\n",
       "      <td>8194</td>\n",
       "      <td>3169</td>\n",
       "      <td>14</td>\n",
       "      <td>123</td>\n",
       "      <td>3456</td>\n",
       "    </tr>\n",
       "    <tr>\n",
       "      <td>1</td>\n",
       "      <td>6</td>\n",
       "      <td>3907</td>\n",
       "      <td>11</td>\n",
       "      <td>659</td>\n",
       "      <td>3202</td>\n",
       "    </tr>\n",
       "    <tr>\n",
       "      <td>2</td>\n",
       "      <td>7</td>\n",
       "      <td>3561</td>\n",
       "      <td>16</td>\n",
       "      <td>694</td>\n",
       "      <td>3157</td>\n",
       "    </tr>\n",
       "    <tr>\n",
       "      <td>3</td>\n",
       "      <td>8</td>\n",
       "      <td>3340</td>\n",
       "      <td>17</td>\n",
       "      <td>289</td>\n",
       "      <td>3489</td>\n",
       "    </tr>\n",
       "    <tr>\n",
       "      <td>4</td>\n",
       "      <td>11</td>\n",
       "      <td>3626</td>\n",
       "      <td>41</td>\n",
       "      <td>454</td>\n",
       "      <td>4375</td>\n",
       "    </tr>\n",
       "  </tbody>\n",
       "</table>\n",
       "</div>"
      ],
      "text/plain": [
       "   user_id  total_spend  count_saved_items  loyalty_credits  batch_id\n",
       "0     8194         3169                 14              123      3456\n",
       "1        6         3907                 11              659      3202\n",
       "2        7         3561                 16              694      3157\n",
       "3        8         3340                 17              289      3489\n",
       "4       11         3626                 41              454      4375"
      ]
     },
     "execution_count": 32,
     "metadata": {},
     "output_type": "execute_result"
    }
   ],
   "source": [
    "D_2.head()"
   ]
  },
  {
   "cell_type": "code",
   "execution_count": 33,
   "metadata": {},
   "outputs": [
    {
     "name": "stdout",
     "output_type": "stream",
     "text": [
      "<class 'pandas.core.frame.DataFrame'>\n",
      "RangeIndex: 2519 entries, 0 to 2518\n",
      "Data columns (total 5 columns):\n",
      "user_id              2519 non-null int64\n",
      "total_spend          2519 non-null int64\n",
      "count_saved_items    2519 non-null int64\n",
      "loyalty_credits      2519 non-null int64\n",
      "batch_id             2519 non-null int64\n",
      "dtypes: int64(5)\n",
      "memory usage: 98.5 KB\n"
     ]
    }
   ],
   "source": [
    "D_2.info()"
   ]
  },
  {
   "cell_type": "code",
   "execution_count": 34,
   "metadata": {},
   "outputs": [
    {
     "name": "stdout",
     "output_type": "stream",
     "text": [
      "8820088\n"
     ]
    }
   ],
   "source": [
    "D2_Total = D_2['total_spend'].sum()\n",
    "\n",
    "print (D2_Total)"
   ]
  },
  {
   "cell_type": "code",
   "execution_count": 35,
   "metadata": {},
   "outputs": [
    {
     "data": {
      "text/plain": [
       "2519"
      ]
     },
     "execution_count": 35,
     "metadata": {},
     "output_type": "execute_result"
    }
   ],
   "source": [
    "len(D_2['user_id'].unique().tolist())\n"
   ]
  },
  {
   "cell_type": "code",
   "execution_count": 36,
   "metadata": {},
   "outputs": [
    {
     "data": {
      "text/plain": [
       "1210"
      ]
     },
     "execution_count": 36,
     "metadata": {},
     "output_type": "execute_result"
    }
   ],
   "source": [
    "len(D_2['batch_id'].unique().tolist())\n"
   ]
  },
  {
   "cell_type": "markdown",
   "metadata": {},
   "source": [
    "#### Confirmed here as well, 1210 batch_ids to 2519 user_ids (one for each row)"
   ]
  },
  {
   "cell_type": "code",
   "execution_count": 37,
   "metadata": {},
   "outputs": [
    {
     "data": {
      "text/html": [
       "<div>\n",
       "<style scoped>\n",
       "    .dataframe tbody tr th:only-of-type {\n",
       "        vertical-align: middle;\n",
       "    }\n",
       "\n",
       "    .dataframe tbody tr th {\n",
       "        vertical-align: top;\n",
       "    }\n",
       "\n",
       "    .dataframe thead th {\n",
       "        text-align: right;\n",
       "    }\n",
       "</style>\n",
       "<table border=\"1\" class=\"dataframe\">\n",
       "  <thead>\n",
       "    <tr style=\"text-align: right;\">\n",
       "      <th></th>\n",
       "      <th>user_id</th>\n",
       "      <th>total_spend</th>\n",
       "      <th>count_saved_items</th>\n",
       "      <th>loyalty_credits</th>\n",
       "      <th>batch_id</th>\n",
       "    </tr>\n",
       "  </thead>\n",
       "  <tbody>\n",
       "    <tr>\n",
       "      <td>0</td>\n",
       "      <td>1</td>\n",
       "      <td>4070</td>\n",
       "      <td>10</td>\n",
       "      <td>179</td>\n",
       "      <td>4940</td>\n",
       "    </tr>\n",
       "    <tr>\n",
       "      <td>1</td>\n",
       "      <td>3</td>\n",
       "      <td>4558</td>\n",
       "      <td>43</td>\n",
       "      <td>736</td>\n",
       "      <td>4510</td>\n",
       "    </tr>\n",
       "    <tr>\n",
       "      <td>2</td>\n",
       "      <td>8199</td>\n",
       "      <td>4663</td>\n",
       "      <td>8</td>\n",
       "      <td>728</td>\n",
       "      <td>4996</td>\n",
       "    </tr>\n",
       "    <tr>\n",
       "      <td>3</td>\n",
       "      <td>8</td>\n",
       "      <td>4991</td>\n",
       "      <td>24</td>\n",
       "      <td>480</td>\n",
       "      <td>5107</td>\n",
       "    </tr>\n",
       "    <tr>\n",
       "      <td>4</td>\n",
       "      <td>9</td>\n",
       "      <td>4379</td>\n",
       "      <td>16</td>\n",
       "      <td>148</td>\n",
       "      <td>4673</td>\n",
       "    </tr>\n",
       "  </tbody>\n",
       "</table>\n",
       "</div>"
      ],
      "text/plain": [
       "   user_id  total_spend  count_saved_items  loyalty_credits  batch_id\n",
       "0        1         4070                 10              179      4940\n",
       "1        3         4558                 43              736      4510\n",
       "2     8199         4663                  8              728      4996\n",
       "3        8         4991                 24              480      5107\n",
       "4        9         4379                 16              148      4673"
      ]
     },
     "execution_count": 37,
     "metadata": {},
     "output_type": "execute_result"
    }
   ],
   "source": [
    "D_3.head()"
   ]
  },
  {
   "cell_type": "code",
   "execution_count": 38,
   "metadata": {},
   "outputs": [
    {
     "name": "stdout",
     "output_type": "stream",
     "text": [
      "<class 'pandas.core.frame.DataFrame'>\n",
      "RangeIndex: 2473 entries, 0 to 2472\n",
      "Data columns (total 5 columns):\n",
      "user_id              2473 non-null int64\n",
      "total_spend          2473 non-null int64\n",
      "count_saved_items    2473 non-null int64\n",
      "loyalty_credits      2473 non-null int64\n",
      "batch_id             2473 non-null int64\n",
      "dtypes: int64(5)\n",
      "memory usage: 96.7 KB\n"
     ]
    }
   ],
   "source": [
    "D_3.info()"
   ]
  },
  {
   "cell_type": "code",
   "execution_count": 39,
   "metadata": {},
   "outputs": [
    {
     "name": "stdout",
     "output_type": "stream",
     "text": [
      "11131828\n"
     ]
    }
   ],
   "source": [
    "D3_Total = D_3['total_spend'].sum()\n",
    "\n",
    "print (D3_Total)"
   ]
  },
  {
   "cell_type": "code",
   "execution_count": 40,
   "metadata": {},
   "outputs": [
    {
     "data": {
      "text/plain": [
       "2473"
      ]
     },
     "execution_count": 40,
     "metadata": {},
     "output_type": "execute_result"
    }
   ],
   "source": [
    "len(D_3['user_id'].unique().tolist())\n"
   ]
  },
  {
   "cell_type": "code",
   "execution_count": 41,
   "metadata": {},
   "outputs": [
    {
     "data": {
      "text/plain": [
       "1225"
      ]
     },
     "execution_count": 41,
     "metadata": {},
     "output_type": "execute_result"
    }
   ],
   "source": [
    "len(D_3['batch_id'].unique().tolist())\n"
   ]
  },
  {
   "cell_type": "markdown",
   "metadata": {},
   "source": [
    "#### Confirmed here as well, 1225 batch_ids to 2473 user_ids (one for each row)"
   ]
  },
  {
   "cell_type": "code",
   "execution_count": 42,
   "metadata": {},
   "outputs": [
    {
     "data": {
      "text/html": [
       "<div>\n",
       "<style scoped>\n",
       "    .dataframe tbody tr th:only-of-type {\n",
       "        vertical-align: middle;\n",
       "    }\n",
       "\n",
       "    .dataframe tbody tr th {\n",
       "        vertical-align: top;\n",
       "    }\n",
       "\n",
       "    .dataframe thead th {\n",
       "        text-align: right;\n",
       "    }\n",
       "</style>\n",
       "<table border=\"1\" class=\"dataframe\">\n",
       "  <thead>\n",
       "    <tr style=\"text-align: right;\">\n",
       "      <th></th>\n",
       "      <th>user_id</th>\n",
       "      <th>total_spend</th>\n",
       "      <th>count_saved_items</th>\n",
       "      <th>loyalty_credits</th>\n",
       "      <th>batch_id</th>\n",
       "    </tr>\n",
       "  </thead>\n",
       "  <tbody>\n",
       "    <tr>\n",
       "      <td>0</td>\n",
       "      <td>8194</td>\n",
       "      <td>5105</td>\n",
       "      <td>40</td>\n",
       "      <td>402</td>\n",
       "      <td>6355</td>\n",
       "    </tr>\n",
       "    <tr>\n",
       "      <td>1</td>\n",
       "      <td>5</td>\n",
       "      <td>6755</td>\n",
       "      <td>3</td>\n",
       "      <td>360</td>\n",
       "      <td>7785</td>\n",
       "    </tr>\n",
       "    <tr>\n",
       "      <td>2</td>\n",
       "      <td>8198</td>\n",
       "      <td>6331</td>\n",
       "      <td>19</td>\n",
       "      <td>841</td>\n",
       "      <td>7210</td>\n",
       "    </tr>\n",
       "    <tr>\n",
       "      <td>3</td>\n",
       "      <td>8</td>\n",
       "      <td>6186</td>\n",
       "      <td>39</td>\n",
       "      <td>947</td>\n",
       "      <td>6789</td>\n",
       "    </tr>\n",
       "    <tr>\n",
       "      <td>4</td>\n",
       "      <td>10</td>\n",
       "      <td>5498</td>\n",
       "      <td>39</td>\n",
       "      <td>821</td>\n",
       "      <td>7966</td>\n",
       "    </tr>\n",
       "  </tbody>\n",
       "</table>\n",
       "</div>"
      ],
      "text/plain": [
       "   user_id  total_spend  count_saved_items  loyalty_credits  batch_id\n",
       "0     8194         5105                 40              402      6355\n",
       "1        5         6755                  3              360      7785\n",
       "2     8198         6331                 19              841      7210\n",
       "3        8         6186                 39              947      6789\n",
       "4       10         5498                 39              821      7966"
      ]
     },
     "execution_count": 42,
     "metadata": {},
     "output_type": "execute_result"
    }
   ],
   "source": [
    "D_4.head()"
   ]
  },
  {
   "cell_type": "code",
   "execution_count": 43,
   "metadata": {},
   "outputs": [
    {
     "name": "stdout",
     "output_type": "stream",
     "text": [
      "<class 'pandas.core.frame.DataFrame'>\n",
      "RangeIndex: 2483 entries, 0 to 2482\n",
      "Data columns (total 5 columns):\n",
      "user_id              2483 non-null int64\n",
      "total_spend          2483 non-null int64\n",
      "count_saved_items    2483 non-null int64\n",
      "loyalty_credits      2483 non-null int64\n",
      "batch_id             2483 non-null int64\n",
      "dtypes: int64(5)\n",
      "memory usage: 97.1 KB\n"
     ]
    }
   ],
   "source": [
    "D_4.info()"
   ]
  },
  {
   "cell_type": "code",
   "execution_count": 44,
   "metadata": {},
   "outputs": [
    {
     "name": "stdout",
     "output_type": "stream",
     "text": [
      "14897837\n"
     ]
    }
   ],
   "source": [
    "D4_Total = D_4['total_spend'].sum()\n",
    "\n",
    "print (D4_Total)"
   ]
  },
  {
   "cell_type": "code",
   "execution_count": 45,
   "metadata": {},
   "outputs": [
    {
     "data": {
      "text/plain": [
       "2483"
      ]
     },
     "execution_count": 45,
     "metadata": {},
     "output_type": "execute_result"
    }
   ],
   "source": [
    "len(D_4['user_id'].unique().tolist())\n"
   ]
  },
  {
   "cell_type": "code",
   "execution_count": 46,
   "metadata": {},
   "outputs": [
    {
     "data": {
      "text/plain": [
       "1439"
      ]
     },
     "execution_count": 46,
     "metadata": {},
     "output_type": "execute_result"
    }
   ],
   "source": [
    "len(D_4['batch_id'].unique().tolist())\n"
   ]
  },
  {
   "cell_type": "markdown",
   "metadata": {},
   "source": [
    "#### Finally, with our last update file, we finish the trend here as well, 1439 batch_ids to 2483 user_ids (one for each row).  Below we see the unique values within each update file and I am struggling to see how these add up to the Johnny's user summary total of 5667 unique batch_ids."
   ]
  },
  {
   "cell_type": "code",
   "execution_count": 47,
   "metadata": {},
   "outputs": [
    {
     "data": {
      "text/plain": [
       "6782"
      ]
     },
     "execution_count": 47,
     "metadata": {},
     "output_type": "execute_result"
    }
   ],
   "source": [
    "1439 + 1225 + 1210 + 919 + 1989 "
   ]
  },
  {
   "cell_type": "markdown",
   "metadata": {},
   "source": [
    "#### Ok! This gives us some idea of what's been happening based on the files we've received. \n",
    "\n",
    "While AIQ dedupes the data by choosing the largest batch_id for each user, Johnny's internal systems are not doing this. Perhaps they tried to do this subsequently with their update files. The initial dive we took into the difference between the two user summaries suggests the problem resides within those additional batch_ids that are included in the Johnny's Jeans user summary which are not included in the AIQ user summary. They may be trying to account for this discrepancy with their update files, but this is not bridging the gap. \n",
    "\n",
    "#### Now let's communicate some of these findings to our clients. "
   ]
  },
  {
   "attachments": {
    "image.png": {
     "image/png": "[encoded data removed]"
    }
   },
   "cell_type": "markdown",
   "metadata": {},
   "source": [
    "#### Prompt 2. You are writing an email to the AIQ backend engineer describing what you’ve found and what you think the issue here is. Please provide as much information and/or examples as possible.\n",
    "\n",
    "Hi Jack, \n",
    "\n",
    "I hope you had a good weekend! \n",
    "\n",
    "I was just taking a look at Johnny's Jeans discrepancy issue. Johnny's finance team reported that the first 10,000 customers spent a collective ($33,904,525) \n",
    "\n",
    "on their site, but when marketing ran the sum of total revenue on our platform, the total sum was a bit less at ($29,162,044).\n",
    "\n",
    "It seems the issue is with the batch_id and total_cost columns:\n",
    "\n",
    " - Total_cost: Almost every row in the 'total_cost\" column (9969 to be exact) had a delta between the two user summary reports from AIQ and Johnny's. The sum of these discrepancies was exactly $4,742,481, which is exactly how much Johnny's Jeans numbers were off by.\n",
    "\n",
    "\n",
    " - Batch_id: When comparing unique values for each of our User Summarys, AIQ’s data pipeline is designed to read through all the data by choosing the largest batch_id for each user. This ensures that AIQ should only be loading 1 row per user, as you know, but that's not the case with Johnny's user summary. There are 646 more batch_id values in the J_User_Summary than there are in the AIQ_User_Summary, suggesting Johnny's has allowed multiple entries for each user, but they both do have the same number of user_ids, 10,000 per file.\n",
    "\n",
    "When I took a look at their update delta files, I was still not able to account for this difference. Here's a snapshot of some of these deltas between the two user summaries:\n",
    "\n",
    "![image.png](attachment:image.png)\n",
    "\n",
    "Let me know if there's any more info I can send your way or if you have a few minutes to chat about this today. It could be that our platform isnt appropriately picking up their updates as it should. It could also be because they aren't appropriately deduping.\n",
    "\n",
    "Thanks!\n",
    "Irene"
   ]
  },
  {
   "cell_type": "markdown",
   "metadata": {},
   "source": [
    "#### Prompt 3. Michael Greene, Johnny Jean’s email marketing director, emailed us asking why our data doesn’t seem to be matching up with theirs. Write a response for him.\n",
    "\n",
    "Hi Michael, \n",
    "\n",
    "Thanks for reaching out about this, I hope you had a great weekend!\n",
    "\n",
    "I want to make sure we can get down to the bottom of the discrepancies you're seeing, your trust in our platform is of upmost importance to me. I took a look at our two user summaries and found a couple of things: \n",
    "\n",
    " - It appears our user summaries both show 10,000 unique user_ids, which is great. When I dive into the batch_ids, I am showing about 646 additional batch_ids in your summary, which concerned me because we make sure to filter those out and select the largest batch_id for each user so that there aren't duplicates. \n",
    "\n",
    "\n",
    " - I was also noticing differences in the total_cost columns between our two summaries, even where the user_id was the same. \n",
    "\n",
    "Let me know when you might have some time this week to talk about this. I'd like to get a better understanding of where the disconnect is and make sure we can see a single source of truth on both our ends. \n",
    "\n",
    "Talk soon, \n",
    "\n",
    "Irene\n"
   ]
  },
  {
   "cell_type": "code",
   "execution_count": null,
   "metadata": {},
   "outputs": [],
   "source": []
  }
 ],
 "metadata": {
  "kernelspec": {
   "display_name": "Python 3",
   "language": "python",
   "name": "python3"
  },
  "language_info": {
   "codemirror_mode": {
    "name": "ipython",
    "version": 3
   },
   "file_extension": ".py",
   "mimetype": "text/x-python",
   "name": "python",
   "nbconvert_exporter": "python",
   "pygments_lexer": "ipython3",
   "version": "3.7.1"
  }
 },
 "nbformat": 4,
 "nbformat_minor": 2
}
