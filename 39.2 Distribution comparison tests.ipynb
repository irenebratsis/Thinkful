{
 "cells": [
  {
   "cell_type": "markdown",
   "metadata": {},
   "source": [
    "Once you have run an experiment and have data, the next step is to choose an analytic approach to compare the A and B groups.  One of the first decision-points in selecting an analytic approach is to determine whether or not the variables of interest are normally distributed in the population.  Earlier in this course, we discussed the role of normality and touched on how to assess whether or not a variable is normal.  Here is a brief reminder:"
   ]
  },
  {
   "cell_type": "markdown",
   "metadata": {},
   "source": [
    "#### How to tell if a variable is normal\n",
    "   * Graph the data using a histogram and see whether the sample takes on the traditional bell-like shape of a normal distribution.  \n",
    "   * Use a QQ plot to graph the data against a normally-distributed variable.  If a variable is normally distributed, it will form a straight line at a 45-degree angle from the bottom left-hand corner of the plot to the upper right-hand corner.\n"
   ]
  },
  {
   "cell_type": "markdown",
   "metadata": {},
   "source": [
    "## Comparing Groups\n",
    "\n",
    "Below are some examples of common parametric tests for comparing groups and their non-parametric equivalents, along with their respective function names in the Python package SciPy.  We won't try them all out right now.\n",
    "\n",
    "### Parametric vs Non-Parametric\n",
    "\n",
    "Note that a 'parametric' test is a test that uses some known set of parameter estimates (mean and standard deviation, for example) to represent the information in the data.  When a variable has a mathematically-understood distribution (Gaussian/Normal, Binomial, Poisson, etc), it can be accurately summarized using a few parameters, so a parametric test makes sense.  For variables that don't conform to a distribution type, their information can't be summarized in just a few parameters, and representing them with these types of parameters will be misleading (like taking the mean of a very skewed distribution). For these, non-parametric tests are used. These tests rely on other estimates that represent certain pieces of information within a variable (like the median, which describes the middlemost datapoint when a variable is sorted by size) but not the whole variable.  Because the estimates they use contain less information than parametric estimates, non-parametric tests are less able to detect very small effects than parametric tests, but they are also less vulnerable to bias from extreme observations in the data.\n",
    "\n",
    "<table border=\"1\">\n",
    "<tr>\n",
    "<th>Experiment Type</th>\n",
    "<th colspan=\"2\">Normally Distributed</th>\n",
    "<th colspan=\"2\">Non-Normally Distributed</th>\n",
    "</tr>\n",
    "<tr>\n",
    "<th></th>\n",
    "<th>Test</th>\n",
    "<th>Function</th>\n",
    "<th>Test</th>\n",
    "<th>Function</th>\n",
    "</tr>\n",
    "<tr>\n",
    "<td>A/B test, two independent groups</td>\n",
    "<td>t-test for independent samples</td>\n",
    "<td>[`scipy.stats.ttest_ind`](https://docs.scipy.org/doc/scipy/reference/generated/scipy.stats.ttest_ind.html#scipy.stats.ttest_ind)</td>\n",
    "<td>Mann-Whitney U test<br>\n",
    "Mood's Median Test<br>\n",
    "Kruskal-Wallis Test</td>\n",
    "<td>[`scipy.stats.mannwhitneyu`](https://docs.scipy.org/doc/scipy/reference/generated/scipy.stats.mannwhitneyu.html#scipy.stats.mannwhitneyu)<br>\n",
    "[`scipy.stats.median_test`](https://docs.scipy.org/doc/scipy/reference/generated/scipy.stats.median_test.html#scipy.stats.median_test)<br>\n",
    "[`scipy.stats.kruskal`](https://docs.scipy.org/doc/scipy/reference/generated/scipy.stats.kruskal.html#scipy.stats.kruskal)</td>\n",
    "</tr>\n",
    "<tr>\n",
    "<td>A/B/C/… test, three or more independent groups</td>\n",
    "<td>One-way ANOVA</td>\n",
    "<td>[`scipy.stats.f_oneway`](https://docs.scipy.org/doc/scipy/reference/generated/scipy.stats.f_oneway.html#scipy.stats.f_oneway)</td>\n",
    "<td>Mood’s median test<br>\n",
    "Kruskal-Wallis test</td>\n",
    "<td>[`scipy.stats.median_test`](https://docs.scipy.org/doc/scipy/reference/generated/scipy.stats.median_test.html#scipy.stats.median_test)<br>\n",
    "[`scipy.stats.kruskal`](https://docs.scipy.org/doc/scipy/reference/generated/scipy.stats.kruskal.html#scipy.stats.kruskal)</td>\n",
    "</tr>\n",
    "<tr>\n",
    "<td>A/B test where all participants experience both versions</td>\n",
    "<td>t-test for paired samples</td>\n",
    "<td>[`scipy.stats.ttest_rel`](https://docs.scipy.org/doc/scipy/reference/generated/scipy.stats.ttest_rel.html#scipy.stats.ttest_rel)</td>\n",
    "<td>Wilcoxon signed-rank test</td>\n",
    "<td>[`scipy.stats.wilcoxon`](https://docs.scipy.org/doc/scipy/reference/generated/scipy.stats.wilcoxon.html#scipy.stats.wilcoxon)</td>\n",
    "</tr>\n",
    "</table>\n",
    "\n",
    "\n",
    "You can read more about these and other functions in the [SciPy stats documentation](https://docs.scipy.org/doc/scipy/reference/stats.html).\n",
    "\n",
    "The prototypical A/B test generates data from two groups.  The goal of the analysis is to compare the distributions to determine if there is a meaningful difference.  Typically this is done by computing some measure of central tendency and some measure of variance for each group, and then comparing the size of the difference of the central tendencies to a threshold chosen based on the amount of variance in the groups and the size of the groups. \n"
   ]
  },
  {
   "cell_type": "markdown",
   "metadata": {},
   "source": [
    "### Parametric tests\n",
    "\n",
    "If visual inspection assures you that your data resembles one of the many distributions with known mathematical properties, then you would use a parametric test to compare differences between groups.  Here we will focus on parametric tests that assume a normal distribution.\n",
    "\n",
    "Whether comparing two groups or more than two, the logic behind parametric tests comparing groups is the same: Calculate how much information in the data can be explained by belonging to groups (often by computing the difference between group means).  Then calculate how much information is in the data overall (often by calculating the standard deviation). Finally, divide the variance explained in the means by the total variance to get a test statistic representing the information explained by group membership in the context of the overall variance.  \n",
    "\n",
    "The test statistic, in combination with the sample size, is then used to estimate how likely that difference is to have occurred if the groups did not differ in the population.  The smaller the likelihood, the more confident we can be that the difference we observe is real and not due to natural variability in the population.  Typically, a likelihood smaller than 5% is used as a threshold for concluding that the groups are not the same in the population.\n",
    "\n",
    "For example, let's compare the height of wooden, steel, and plastic rollercoasters."
   ]
  },
  {
   "cell_type": "code",
   "execution_count": 1,
   "metadata": {},
   "outputs": [],
   "source": [
    "import pandas as pd\n",
    "import numpy as np\n",
    "import matplotlib.pyplot as plt\n",
    "import scipy.stats as stats\n",
    "%matplotlib inline"
   ]
  },
  {
   "cell_type": "code",
   "execution_count": 2,
   "metadata": {},
   "outputs": [
    {
     "data": {
      "image/png": "[encoded data removed]",
      "text/plain": [
       "<Figure size 432x288 with 4 Axes>"
      ]
     },
     "metadata": {
      "needs_background": "light"
     },
     "output_type": "display_data"
    }
   ],
   "source": [
    "# First, create and load some coaster height data.\n",
    "\n",
    "coaster_heights = pd.DataFrame()\n",
    "\n",
    "steel_heights = [\n",
    "    18.5, 14, 30.2, 25.2024, 15, 16, 13.5, 30, 20, 17, 13.716, 8.5, 16.1, 18,\n",
    "    41, 30.3, 32.004, 28.004, 30.48, 34\n",
    "    ]\n",
    "\n",
    "wood_heights = [\n",
    "    38.70, 46, 27.8, 43.52, 33.77, 29.26, 16.764, 45, 48.1, 16.764, 24.384,\n",
    "    24.5, 40, 35.96, 22.24, 21.33, 27.73, 23.46, 21.64, 30.12\n",
    "    ]\n",
    "\n",
    "plastic_heights = [\n",
    "    9, 8.2, 12, 21, 6.3, 11.7, 19.44, 4.75, 13, 18, 15.5, 15.6, 10, 11.77, 29,\n",
    "    5, 3.2, 14.75, 18.2, 17.7\n",
    "    ]\n",
    "\n",
    "coaster_heights['Steel'] = steel_heights\n",
    "coaster_heights['Wood'] = wood_heights\n",
    "coaster_heights['Plastic'] = plastic_heights\n",
    "\n",
    "# Visualize our data.\n",
    "coaster_heights.hist(sharey=True,sharex=True)\n",
    "plt.show()"
   ]
  },
  {
   "cell_type": "markdown",
   "metadata": {},
   "source": [
    "While none of the three distributions are very pretty, it still seems as though they are sufficiently close to the normal distribution (given the small sample size) that the mean and standard deviation would give us useful information.  We are comparing three unrelated groups of data, so the appropriate parametric choice is a one-way Analysis of Variance (ANOVA).  \n",
    "\n",
    "## One-Way ANOVA\n",
    "\n",
    "Note that the test statistic will identify whether any of the groups differs from the others.  The F-test alone cannot say which group (or groups) are the different ones.\n",
    "\n",
    "\\begin{equation}\n",
    "F=\\frac{{n\\sum(\\bar{Y}_j-\\bar{Y})^2}/{(a-1)}}{{\\sum\\sum(Y_{ij}-\\bar{Y}_j)^2}/{(N-a)}}\n",
    "\\end{equation}\n",
    "\n",
    "*n* is the number of datapoints in each group.  \n",
    "$\\bar{Y}_j$ is the mean for the *j*th group.  \n",
    "$\\bar{Y}$ is the overall mean.  \n",
    "$Y_{ij}$ is the *i*th value of *j*th group.  \n",
    "*a* is the number of groups.  \n",
    "*N* is the total number of datapoints.  \n",
    "\n",
    "The logic of the one-way ANOVA is to compare how much the group means $\\bar{Y}_j$ differ from the overall mean $\\bar{Y}$ to how much the observations within each group $Y_{ij}$ differ from the mean of that group $\\bar{Y}_j$.  The ratio of the average group difference to average within-group variance is then used, in combination with the sample size *N*, to calculate the probability of getting a difference that large in the sample if there were no meaningful difference between the groups in the population.\n"
   ]
  },
  {
   "cell_type": "code",
   "execution_count": 3,
   "metadata": {},
   "outputs": [
    {
     "name": "stdout",
     "output_type": "stream",
     "text": [
      "Steel      22.57532\n",
      "Wood       30.85210\n",
      "Plastic    13.20550\n",
      "dtype: float64\n"
     ]
    },
    {
     "data": {
      "image/png": "[encoded data removed]",
      "text/plain": [
       "<Figure size 432x288 with 1 Axes>"
      ]
     },
     "metadata": {
      "needs_background": "light"
     },
     "output_type": "display_data"
    },
    {
     "name": "stdout",
     "output_type": "stream",
     "text": [
      "21.515815855142634\n",
      "1.0927449918229045e-07\n"
     ]
    }
   ],
   "source": [
    "# Printing the means for each group.\n",
    "print(coaster_heights.mean())\n",
    "\n",
    "coaster_heights.boxplot()\n",
    "plt.show()\n",
    "\n",
    "\n",
    "F, p = stats.f_oneway(\n",
    "    coaster_heights['Steel'],\n",
    "    coaster_heights['Wood'],\n",
    "    coaster_heights['Plastic'])\n",
    "\n",
    "# The F statistic.\n",
    "print(F)\n",
    "\n",
    "# The probability. A p < .05 would lead us to believe the group means were\n",
    "# not all similar in the population.\n",
    "print(p)"
   ]
  },
  {
   "cell_type": "markdown",
   "metadata": {},
   "source": [
    "It appears that the three groups (Steel, Wood, and Plastic) are likely to differ in the population (p < .0001).  But which group is the odd one out?  Returning to the histograms above, visual inspection suggests that the roller coasters made of plastic are shorter than the ones made of steel and wood.  To test whether plastic is the odd one out, we can perform a set of pairwise t-tests comparing each group to each other group.  "
   ]
  },
  {
   "cell_type": "code",
   "execution_count": 4,
   "metadata": {},
   "outputs": [
    {
     "name": "stdout",
     "output_type": "stream",
     "text": [
      "Ttest_indResult(statistic=-2.785911485728798, pvalue=0.008281657085474181)\n",
      "Ttest_indResult(statistic=3.8446067874474887, pvalue=0.00044650642104150624)\n",
      "Ttest_indResult(statistic=-6.683437837231596, pvalue=6.614422528990009e-08)\n"
     ]
    }
   ],
   "source": [
    "print(stats.ttest_ind(coaster_heights['Steel'], coaster_heights['Wood']))\n",
    "print(stats.ttest_ind(coaster_heights['Steel'], coaster_heights['Plastic']))\n",
    "print(stats.ttest_ind(coaster_heights['Plastic'], coaster_heights['Wood']))"
   ]
  },
  {
   "cell_type": "markdown",
   "metadata": {},
   "source": [
    "The results of this test are interesting!  Contrary to what we might have expected from a visual inspection of the histograms, the means of all three groups seem to be significantly different from one another.  Wood is highest, then Steel, then Plastic.  "
   ]
  },
  {
   "cell_type": "markdown",
   "metadata": {},
   "source": [
    "## Tests for Dependent Groups\n",
    "\n",
    "So far, we have assumed that the groups we are comparing are made up of different people.  Sometimes, however, we want to compare people to themselves, to see if changing an element (the color of a website, the text of an email, etc) changes peoples' reactions.  This type of data leads to dependent groups, because if we know a person's response to condition A, we already have some information about how they might respond to condition B.  As a result, different statistical methods are needed if we want to compare condition A to condition B.\n",
    "\n",
    "A paired t-test is used to compare two dependent (or \"paired\") groups.  It differs from an independent t-test in two ways:\n",
    "1. The difference score is calculated by subtracting each pair of scores and then calculating the mean difference, rather than calculating the difference of the means.  \n",
    "    - If there is no missing data, the two methods are identical.  However, in a paired t-test if a person is missing data in condition A, their data in condition B is discarded.\n",
    "2. The error term is calculalted as the standard deviation of the difference scores.\n"
   ]
  },
  {
   "cell_type": "markdown",
   "metadata": {},
   "source": [
    "### Thinking Like a Data Scientist\n",
    "Why use dependent groups? Come up with a few scenarios where getting repeated measures from the same people would be beneficial. Summarize them in your notebook and discuss with your mentor."
   ]
  },
  {
   "cell_type": "markdown",
   "metadata": {},
   "source": [
    "### Answer \n",
    "\n",
    "We would do repeat measures from the same peope in order to see if there are any variables inherent in their experience that would produce different results almost like an A/A test. "
   ]
  },
  {
   "cell_type": "code",
   "execution_count": null,
   "metadata": {},
   "outputs": [],
   "source": []
  }
 ],
 "metadata": {
  "kernelspec": {
   "display_name": "Python 3",
   "language": "python",
   "name": "python3"
  },
  "language_info": {
   "codemirror_mode": {
    "name": "ipython",
    "version": 3
   },
   "file_extension": ".py",
   "mimetype": "text/x-python",
   "name": "python",
   "nbconvert_exporter": "python",
   "pygments_lexer": "ipython3",
   "version": "3.7.1"
  }
 },
 "nbformat": 4,
 "nbformat_minor": 2
}
