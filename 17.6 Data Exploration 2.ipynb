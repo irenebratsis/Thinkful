{
 "cells": [
  {
   "cell_type": "code",
   "execution_count": 1,
   "metadata": {},
   "outputs": [],
   "source": [
    "import pandas as pd\n",
    "import matplotlib.pyplot as plt\n",
    "from sqlalchemy import create_engine\n",
    "from scipy.stats.stats import ttest_ind\n",
    "import warnings\n",
    "\n",
    "warnings.filterwarnings('ignore')\n"
   ]
  },
  {
   "cell_type": "code",
   "execution_count": 2,
   "metadata": {},
   "outputs": [],
   "source": [
    "\n",
    "postgres_user = 'dsbc_student'\n",
    "postgres_pw = '7*.8G9QH21'\n",
    "postgres_host = '142.93.121.174'\n",
    "postgres_port = '5432'\n",
    "postgres_db = 'studentsperformance'\n",
    "\n",
    "engine = create_engine('postgresql://{}:{}@{}:{}/{}'.format(\n",
    "    postgres_user, postgres_pw, postgres_host, postgres_port, postgres_db))\n",
    "\n",
    "education_df = pd.read_sql_query('select * from studentsperformance',con=engine)\n",
    "\n",
    "# no need for an open connection, \n",
    "# as we're only doing a single query\n",
    "engine.dispose()"
   ]
  },
  {
   "cell_type": "code",
   "execution_count": 4,
   "metadata": {},
   "outputs": [
    {
     "data": {
      "text/html": [
       "<div>\n",
       "<style scoped>\n",
       "    .dataframe tbody tr th:only-of-type {\n",
       "        vertical-align: middle;\n",
       "    }\n",
       "\n",
       "    .dataframe tbody tr th {\n",
       "        vertical-align: top;\n",
       "    }\n",
       "\n",
       "    .dataframe thead th {\n",
       "        text-align: right;\n",
       "    }\n",
       "</style>\n",
       "<table border=\"1\" class=\"dataframe\">\n",
       "  <thead>\n",
       "    <tr style=\"text-align: right;\">\n",
       "      <th></th>\n",
       "      <th>math score</th>\n",
       "      <th>reading score</th>\n",
       "      <th>writing score</th>\n",
       "    </tr>\n",
       "    <tr>\n",
       "      <th>gender</th>\n",
       "      <th></th>\n",
       "      <th></th>\n",
       "      <th></th>\n",
       "    </tr>\n",
       "  </thead>\n",
       "  <tbody>\n",
       "    <tr>\n",
       "      <th>female</th>\n",
       "      <td>63.633205</td>\n",
       "      <td>72.608108</td>\n",
       "      <td>72.467181</td>\n",
       "    </tr>\n",
       "    <tr>\n",
       "      <th>male</th>\n",
       "      <td>68.728216</td>\n",
       "      <td>65.473029</td>\n",
       "      <td>63.311203</td>\n",
       "    </tr>\n",
       "  </tbody>\n",
       "</table>\n",
       "</div>"
      ],
      "text/plain": [
       "        math score  reading score  writing score\n",
       "gender                                          \n",
       "female   63.633205      72.608108      72.467181\n",
       "male     68.728216      65.473029      63.311203"
      ]
     },
     "execution_count": 4,
     "metadata": {},
     "output_type": "execute_result"
    }
   ],
   "source": [
    "\n",
    "education_df.groupby(\"gender\").mean()[[\"math score\", \"reading score\", \"writing score\"]]"
   ]
  },
  {
   "cell_type": "code",
   "execution_count": 6,
   "metadata": {},
   "outputs": [
    {
     "data": {
      "text/plain": [
       "Ttest_indResult(statistic=array([-5.38324587,  7.95930801,  9.97955791]), pvalue=array([9.12018555e-08, 4.68053874e-15, 2.01987771e-22]))"
      ]
     },
     "execution_count": 6,
     "metadata": {},
     "output_type": "execute_result"
    }
   ],
   "source": [
    "ttest_ind(education_df[education_df.gender == \"female\"][[\"math score\", \"reading score\", \"writing score\"]],\n",
    "          education_df[education_df.gender == \"male\"][[\"math score\", \"reading score\", \"writing score\"]])"
   ]
  },
  {
   "cell_type": "code",
   "execution_count": 7,
   "metadata": {},
   "outputs": [
    {
     "data": {
      "text/html": [
       "<div>\n",
       "<style scoped>\n",
       "    .dataframe tbody tr th:only-of-type {\n",
       "        vertical-align: middle;\n",
       "    }\n",
       "\n",
       "    .dataframe tbody tr th {\n",
       "        vertical-align: top;\n",
       "    }\n",
       "\n",
       "    .dataframe thead th {\n",
       "        text-align: right;\n",
       "    }\n",
       "</style>\n",
       "<table border=\"1\" class=\"dataframe\">\n",
       "  <thead>\n",
       "    <tr style=\"text-align: right;\">\n",
       "      <th></th>\n",
       "      <th>math score</th>\n",
       "      <th>reading score</th>\n",
       "      <th>writing score</th>\n",
       "    </tr>\n",
       "    <tr>\n",
       "      <th>race/ethnicity</th>\n",
       "      <th></th>\n",
       "      <th></th>\n",
       "      <th></th>\n",
       "    </tr>\n",
       "  </thead>\n",
       "  <tbody>\n",
       "    <tr>\n",
       "      <th>group A</th>\n",
       "      <td>61.629213</td>\n",
       "      <td>64.674157</td>\n",
       "      <td>62.674157</td>\n",
       "    </tr>\n",
       "    <tr>\n",
       "      <th>group B</th>\n",
       "      <td>63.452632</td>\n",
       "      <td>67.352632</td>\n",
       "      <td>65.600000</td>\n",
       "    </tr>\n",
       "    <tr>\n",
       "      <th>group C</th>\n",
       "      <td>64.463950</td>\n",
       "      <td>69.103448</td>\n",
       "      <td>67.827586</td>\n",
       "    </tr>\n",
       "    <tr>\n",
       "      <th>group D</th>\n",
       "      <td>67.362595</td>\n",
       "      <td>70.030534</td>\n",
       "      <td>70.145038</td>\n",
       "    </tr>\n",
       "    <tr>\n",
       "      <th>group E</th>\n",
       "      <td>73.821429</td>\n",
       "      <td>73.028571</td>\n",
       "      <td>71.407143</td>\n",
       "    </tr>\n",
       "  </tbody>\n",
       "</table>\n",
       "</div>"
      ],
      "text/plain": [
       "                math score  reading score  writing score\n",
       "race/ethnicity                                          \n",
       "group A          61.629213      64.674157      62.674157\n",
       "group B          63.452632      67.352632      65.600000\n",
       "group C          64.463950      69.103448      67.827586\n",
       "group D          67.362595      70.030534      70.145038\n",
       "group E          73.821429      73.028571      71.407143"
      ]
     },
     "execution_count": 7,
     "metadata": {},
     "output_type": "execute_result"
    }
   ],
   "source": [
    "\n",
    "education_df.groupby(\"race/ethnicity\").mean()[[\"math score\", \"reading score\", \"writing score\"]]"
   ]
  },
  {
   "cell_type": "code",
   "execution_count": 10,
   "metadata": {},
   "outputs": [
    {
     "name": "stdout",
     "output_type": "stream",
     "text": [
      "------------------------------------------------\n",
      "Comparisons for variable: math score\n",
      "------------------------------------------------\n",
      "t-test between groups group B and group C:\n",
      "Ttest_indResult(statistic=-0.7315669893534263, pvalue=0.4647708939167453)\n",
      "t-test between groups group B and group A:\n",
      "Ttest_indResult(statistic=0.9355076279747488, pvalue=0.3503415961659957)\n",
      "t-test between groups group B and group D:\n",
      "Ttest_indResult(statistic=-2.82845539712675, pvalue=0.004886197137104194)\n",
      "t-test between groups group B and group E:\n",
      "Ttest_indResult(statistic=-6.007397050552227, pvalue=5.007946047497971e-09)\n",
      "t-test between groups group C and group A:\n",
      "Ttest_indResult(statistic=1.5997220303217299, pvalue=0.11043810745588042)\n",
      "t-test between groups group C and group D:\n",
      "Ttest_indResult(statistic=-2.41858624746011, pvalue=0.015888349556016285)\n",
      "t-test between groups group C and group E:\n",
      "Ttest_indResult(statistic=-6.127642520822135, pvalue=1.927238849552764e-09)\n",
      "t-test between groups group A and group D:\n",
      "Ttest_indResult(statistic=-3.3466982429712298, pvalue=0.0009068636053543751)\n",
      "t-test between groups group A and group E:\n",
      "Ttest_indResult(statistic=-5.936141025544798, pvalue=1.083559122656415e-08)\n",
      "t-test between groups group D and group E:\n",
      "Ttest_indResult(statistic=-4.282287214674715, pvalue=2.3187640326715042e-05)\n",
      "------------------------------------------------\n",
      "Comparisons for variable: reading score\n",
      "------------------------------------------------\n",
      "t-test between groups group B and group C:\n",
      "Ttest_indResult(statistic=-1.3223156212901772, pvalue=0.1866592809035069)\n",
      "t-test between groups group B and group A:\n",
      "Ttest_indResult(statistic=1.3633682262027682, pvalue=0.1738735513443721)\n",
      "t-test between groups group B and group D:\n",
      "Ttest_indResult(statistic=-1.9451563636864795, pvalue=0.0523786206559701)\n",
      "t-test between groups group B and group E:\n",
      "Ttest_indResult(statistic=-3.386066945409153, pvalue=0.0007951618495240944)\n",
      "t-test between groups group C and group A:\n",
      "Ttest_indResult(statistic=2.575432218066352, pvalue=0.010364398025471079)\n",
      "t-test between groups group C and group D:\n",
      "Ttest_indResult(statistic=-0.7970109316408917, pvalue=0.425771382113019)\n",
      "t-test between groups group C and group E:\n",
      "Ttest_indResult(statistic=-2.7133018645371685, pvalue=0.0069132842804986595)\n",
      "t-test between groups group A and group D:\n",
      "Ttest_indResult(statistic=-3.0468548573461187, pvalue=0.002488654464332207)\n",
      "t-test between groups group A and group E:\n",
      "Ttest_indResult(statistic=-4.071106227981414, pvalue=6.463395931833847e-05)\n",
      "t-test between groups group D and group E:\n",
      "Ttest_indResult(statistic=-2.0106479406031794, pvalue=0.045033306431345586)\n",
      "------------------------------------------------\n",
      "Comparisons for variable: writing score\n",
      "------------------------------------------------\n",
      "t-test between groups group B and group C:\n",
      "Ttest_indResult(statistic=-1.5964963433740407, pvalue=0.1110010959814519)\n",
      "t-test between groups group B and group A:\n",
      "Ttest_indResult(statistic=1.4624420577998105, pvalue=0.14475374198993884)\n",
      "t-test between groups group B and group D:\n",
      "Ttest_indResult(statistic=-3.19929333232526, pvalue=0.0014749978881319053)\n",
      "t-test between groups group B and group E:\n",
      "Ttest_indResult(statistic=-3.3831978345244518, pvalue=0.0008032300486353951)\n",
      "t-test between groups group C and group A:\n",
      "Ttest_indResult(statistic=2.848872404992454, pvalue=0.004610690740740428)\n",
      "t-test between groups group C and group D:\n",
      "Ttest_indResult(statistic=-1.8896631516726248, pvalue=0.05930232918708209)\n",
      "t-test between groups group C and group E:\n",
      "Ttest_indResult(statistic=-2.3502811868359177, pvalue=0.019183539018898285)\n",
      "t-test between groups group A and group D:\n",
      "Ttest_indResult(statistic=-4.1556316361449195, pvalue=4.084805733969806e-05)\n",
      "t-test between groups group A and group E:\n",
      "Ttest_indResult(statistic=-4.2234736631970105, pvalue=3.483278064499439e-05)\n",
      "t-test between groups group D and group E:\n",
      "Ttest_indResult(statistic=-0.8239736571520918, pvalue=0.4104455517392258)\n"
     ]
    }
   ],
   "source": [
    "# Test whether group differences are significant.\n",
    "ethnicities = education_df[\"race/ethnicity\"].unique()\n",
    "grouped_df = education_df.groupby(\"race/ethnicity\")\n",
    "for var in [\"math score\", \"reading score\", \"writing score\"]:\n",
    "    print(\"------------------------------------------------\")\n",
    "    print(\"Comparisons for variable: {}\".format(var))\n",
    "    print(\"------------------------------------------------\")\n",
    "    for i in range(0, len(ethnicities)):\n",
    "        for j in range(i+1, len(ethnicities)):\n",
    "            print(\n",
    "                \"t-test between groups {0} and {1}:\".format(ethnicities[i], ethnicities[j]))\n",
    "            print(ttest_ind(\n",
    "                education_df[education_df[\"race/ethnicity\"]\n",
    "                           == ethnicities[i]][var],\n",
    "                education_df[education_df[\"race/ethnicity\"] == ethnicities[j]][var]\n",
    "            ))"
   ]
  },
  {
   "cell_type": "code",
   "execution_count": 11,
   "metadata": {},
   "outputs": [
    {
     "data": {
      "text/html": [
       "<div>\n",
       "<style scoped>\n",
       "    .dataframe tbody tr th:only-of-type {\n",
       "        vertical-align: middle;\n",
       "    }\n",
       "\n",
       "    .dataframe tbody tr th {\n",
       "        vertical-align: top;\n",
       "    }\n",
       "\n",
       "    .dataframe thead th {\n",
       "        text-align: right;\n",
       "    }\n",
       "</style>\n",
       "<table border=\"1\" class=\"dataframe\">\n",
       "  <thead>\n",
       "    <tr style=\"text-align: right;\">\n",
       "      <th></th>\n",
       "      <th>math score</th>\n",
       "      <th>reading score</th>\n",
       "      <th>writing score</th>\n",
       "    </tr>\n",
       "    <tr>\n",
       "      <th>parental level of education</th>\n",
       "      <th></th>\n",
       "      <th></th>\n",
       "      <th></th>\n",
       "    </tr>\n",
       "  </thead>\n",
       "  <tbody>\n",
       "    <tr>\n",
       "      <th>associate's degree</th>\n",
       "      <td>67.882883</td>\n",
       "      <td>70.927928</td>\n",
       "      <td>69.896396</td>\n",
       "    </tr>\n",
       "    <tr>\n",
       "      <th>bachelor's degree</th>\n",
       "      <td>69.389831</td>\n",
       "      <td>73.000000</td>\n",
       "      <td>73.381356</td>\n",
       "    </tr>\n",
       "    <tr>\n",
       "      <th>high school</th>\n",
       "      <td>62.137755</td>\n",
       "      <td>64.704082</td>\n",
       "      <td>62.448980</td>\n",
       "    </tr>\n",
       "    <tr>\n",
       "      <th>master's degree</th>\n",
       "      <td>69.745763</td>\n",
       "      <td>75.372881</td>\n",
       "      <td>75.677966</td>\n",
       "    </tr>\n",
       "    <tr>\n",
       "      <th>some college</th>\n",
       "      <td>67.128319</td>\n",
       "      <td>69.460177</td>\n",
       "      <td>68.840708</td>\n",
       "    </tr>\n",
       "    <tr>\n",
       "      <th>some high school</th>\n",
       "      <td>63.497207</td>\n",
       "      <td>66.938547</td>\n",
       "      <td>64.888268</td>\n",
       "    </tr>\n",
       "  </tbody>\n",
       "</table>\n",
       "</div>"
      ],
      "text/plain": [
       "                             math score  reading score  writing score\n",
       "parental level of education                                          \n",
       "associate's degree            67.882883      70.927928      69.896396\n",
       "bachelor's degree             69.389831      73.000000      73.381356\n",
       "high school                   62.137755      64.704082      62.448980\n",
       "master's degree               69.745763      75.372881      75.677966\n",
       "some college                  67.128319      69.460177      68.840708\n",
       "some high school              63.497207      66.938547      64.888268"
      ]
     },
     "execution_count": 11,
     "metadata": {},
     "output_type": "execute_result"
    }
   ],
   "source": [
    "education_df.groupby(\"parental level of education\").mean()[[\"math score\", \"reading score\", \"writing score\"]]\n"
   ]
  },
  {
   "cell_type": "code",
   "execution_count": 12,
   "metadata": {},
   "outputs": [
    {
     "name": "stdout",
     "output_type": "stream",
     "text": [
      "------------------------------------------------\n",
      "Comparisons for variable: math score\n",
      "------------------------------------------------\n",
      "t-test between groups bachelor's degree and some college:\n",
      "Ttest_indResult(statistic=1.3702352829617477, pvalue=0.17151224218471559)\n",
      "t-test between groups bachelor's degree and master's degree:\n",
      "Ttest_indResult(statistic=-0.14868196568849312, pvalue=0.8819757824867702)\n",
      "t-test between groups bachelor's degree and associate's degree:\n",
      "Ttest_indResult(statistic=0.8786641889793243, pvalue=0.38020757818036177)\n",
      "t-test between groups bachelor's degree and high school:\n",
      "Ttest_indResult(statistic=4.236143622484822, pvalue=2.9965345853843376e-05)\n",
      "t-test between groups bachelor's degree and some high school:\n",
      "Ttest_indResult(statistic=3.196718602676573, pvalue=0.0015409192922812146)\n",
      "t-test between groups some college and master's degree:\n",
      "Ttest_indResult(statistic=-1.2356334215824571, pvalue=0.21761956810347416)\n",
      "t-test between groups some college and associate's degree:\n",
      "Ttest_indResult(statistic=-0.5426842696247527, pvalue=0.5876182809234072)\n",
      "t-test between groups some college and high school:\n",
      "Ttest_indResult(statistic=3.5461079495681163, pvalue=0.00043498004192453146)\n",
      "t-test between groups some college and some high school:\n",
      "Ttest_indResult(statistic=2.4117046231407633, pvalue=0.016324361572645503)\n",
      "t-test between groups master's degree and associate's degree:\n",
      "Ttest_indResult(statistic=0.8411229688563471, pvalue=0.4009993636124658)\n",
      "t-test between groups master's degree and high school:\n",
      "Ttest_indResult(statistic=3.4893759321890823, pvalue=0.000570929230228812)\n",
      "t-test between groups master's degree and some high school:\n",
      "Ttest_indResult(statistic=2.6442572081925526, pvalue=0.008736228790471057)\n",
      "t-test between groups associate's degree and high school:\n",
      "Ttest_indResult(statistic=3.9481325318265013, pvalue=9.247314274963044e-05)\n",
      "t-test between groups associate's degree and some high school:\n",
      "Ttest_indResult(statistic=2.820053979930256, pvalue=0.005041081492906143)\n",
      "t-test between groups high school and some high school:\n",
      "Ttest_indResult(statistic=-0.8640629490772553, pvalue=0.388108610360687)\n",
      "------------------------------------------------\n",
      "Comparisons for variable: reading score\n",
      "------------------------------------------------\n",
      "t-test between groups bachelor's degree and some college:\n",
      "Ttest_indResult(statistic=2.2048821209085077, pvalue=0.028127555314401052)\n",
      "t-test between groups bachelor's degree and master's degree:\n",
      "Ttest_indResult(statistic=-1.0540858949475984, pvalue=0.29329675131787897)\n",
      "t-test between groups bachelor's degree and associate's degree:\n",
      "Ttest_indResult(statistic=1.2977969850452833, pvalue=0.19524206483091092)\n",
      "t-test between groups bachelor's degree and high school:\n",
      "Ttest_indResult(statistic=5.017577900835298, pvalue=8.804250310784477e-07)\n",
      "t-test between groups bachelor's degree and some high school:\n",
      "Ttest_indResult(statistic=3.4039270673798745, pvalue=0.0007561971719730451)\n",
      "t-test between groups some college and master's degree:\n",
      "Ttest_indResult(statistic=-2.888843374950649, pvalue=0.004165440800640354)\n",
      "t-test between groups some college and associate's degree:\n",
      "Ttest_indResult(statistic=-1.11231882169149, pvalue=0.26660028539980146)\n",
      "t-test between groups some college and high school:\n",
      "Ttest_indResult(statistic=3.4578427683620334, pvalue=0.0006001048481252139)\n",
      "t-test between groups some college and some high school:\n",
      "Ttest_indResult(statistic=1.714161972758909, pvalue=0.08726786856243877)\n",
      "t-test between groups master's degree and associate's degree:\n",
      "Ttest_indResult(statistic=2.1912015759838686, pvalue=0.02926414570972208)\n",
      "t-test between groups master's degree and high school:\n",
      "Ttest_indResult(statistic=5.113158728723477, pvalue=6.257558119816884e-07)\n",
      "t-test between groups master's degree and some high school:\n",
      "Ttest_indResult(statistic=3.7261574122231513, pvalue=0.00024334552617191513)\n",
      "t-test between groups associate's degree and high school:\n",
      "Ttest_indResult(statistic=4.538021419898997, pvalue=7.442167797135797e-06)\n",
      "t-test between groups associate's degree and some high school:\n",
      "Ttest_indResult(statistic=2.7183602204037927, pvalue=0.006846770119677965)\n",
      "t-test between groups high school and some high school:\n",
      "Ttest_indResult(statistic=-1.461284757591555, pvalue=0.1447791955248275)\n",
      "------------------------------------------------\n",
      "Comparisons for variable: writing score\n",
      "------------------------------------------------\n",
      "t-test between groups bachelor's degree and some college:\n",
      "Ttest_indResult(statistic=2.6803314684632196, pvalue=0.00771101202367254)\n",
      "t-test between groups bachelor's degree and master's degree:\n",
      "Ttest_indResult(statistic=-0.9998741306804844, pvalue=0.3187519641464658)\n",
      "t-test between groups bachelor's degree and associate's degree:\n",
      "Ttest_indResult(statistic=2.1159296639133762, pvalue=0.03508162451719667)\n",
      "t-test between groups bachelor's degree and high school:\n",
      "Ttest_indResult(statistic=6.547380937127048, pvalue=2.4076253789515874e-10)\n",
      "t-test between groups bachelor's degree and some high school:\n",
      "Ttest_indResult(statistic=4.667733097498242, pvalue=4.628198526834338e-06)\n",
      "t-test between groups some college and master's degree:\n",
      "Ttest_indResult(statistic=-3.1687690632394907, pvalue=0.0016985933135959495)\n",
      "t-test between groups some college and associate's degree:\n",
      "Ttest_indResult(statistic=-0.7615968643953912, pvalue=0.44670316603036575)\n",
      "t-test between groups some college and high school:\n",
      "Ttest_indResult(statistic=4.488520877492127, pvalue=9.275017802620877e-06)\n",
      "t-test between groups some college and some high school:\n",
      "Ttest_indResult(statistic=2.5757211403792417, pvalue=0.010358529086081357)\n",
      "t-test between groups master's degree and associate's degree:\n",
      "Ttest_indResult(statistic=2.78124154906855, pvalue=0.00578403270525775)\n",
      "t-test between groups master's degree and high school:\n",
      "Ttest_indResult(statistic=6.360904883721531, pvalue=9.326930296880332e-10)\n",
      "t-test between groups master's degree and some high school:\n",
      "Ttest_indResult(statistic=4.707583817143559, pvalue=4.275465153074631e-06)\n",
      "t-test between groups associate's degree and high school:\n",
      "Ttest_indResult(statistic=5.348725635626432, pvalue=1.4650545536741998e-07)\n",
      "t-test between groups associate's degree and some high school:\n",
      "Ttest_indResult(statistic=3.3317223453475715, pvalue=0.0009435990258795855)\n",
      "t-test between groups high school and some high school:\n",
      "Ttest_indResult(statistic=-1.5838885273076473, pvalue=0.11406653932963291)\n"
     ]
    }
   ],
   "source": [
    "\n",
    "# Test whether group differences are significant.\n",
    "ethnicities = education_df[\"parental level of education\"].unique()\n",
    "grouped_df = education_df.groupby(\"parental level of education\")\n",
    "for var in [\"math score\", \"reading score\", \"writing score\"]:\n",
    "    print(\"------------------------------------------------\")\n",
    "    print(\"Comparisons for variable: {}\".format(var))\n",
    "    print(\"------------------------------------------------\")\n",
    "    for i in range(0, len(ethnicities)):\n",
    "        for j in range(i+1, len(ethnicities)):\n",
    "            print(\n",
    "                \"t-test between groups {0} and {1}:\".format(ethnicities[i], ethnicities[j]))\n",
    "            print(ttest_ind(\n",
    "                education_df[education_df[\"parental level of education\"]\n",
    "                           == ethnicities[i]][var],\n",
    "                education_df[education_df[\"parental level of education\"]\n",
    "                           == ethnicities[j]][var]\n",
    "            ))"
   ]
  },
  {
   "cell_type": "code",
   "execution_count": 13,
   "metadata": {},
   "outputs": [],
   "source": [
    "#There are some significant differences between some groups like master's degree and high school.\n",
    "\n"
   ]
  },
  {
   "cell_type": "code",
   "execution_count": 14,
   "metadata": {},
   "outputs": [
    {
     "data": {
      "text/html": [
       "<div>\n",
       "<style scoped>\n",
       "    .dataframe tbody tr th:only-of-type {\n",
       "        vertical-align: middle;\n",
       "    }\n",
       "\n",
       "    .dataframe tbody tr th {\n",
       "        vertical-align: top;\n",
       "    }\n",
       "\n",
       "    .dataframe thead th {\n",
       "        text-align: right;\n",
       "    }\n",
       "</style>\n",
       "<table border=\"1\" class=\"dataframe\">\n",
       "  <thead>\n",
       "    <tr style=\"text-align: right;\">\n",
       "      <th></th>\n",
       "      <th>math score</th>\n",
       "      <th>reading score</th>\n",
       "      <th>writing score</th>\n",
       "    </tr>\n",
       "    <tr>\n",
       "      <th>lunch</th>\n",
       "      <th></th>\n",
       "      <th></th>\n",
       "      <th></th>\n",
       "    </tr>\n",
       "  </thead>\n",
       "  <tbody>\n",
       "    <tr>\n",
       "      <th>free/reduced</th>\n",
       "      <td>58.921127</td>\n",
       "      <td>64.653521</td>\n",
       "      <td>63.022535</td>\n",
       "    </tr>\n",
       "    <tr>\n",
       "      <th>standard</th>\n",
       "      <td>70.034109</td>\n",
       "      <td>71.654264</td>\n",
       "      <td>70.823256</td>\n",
       "    </tr>\n",
       "  </tbody>\n",
       "</table>\n",
       "</div>"
      ],
      "text/plain": [
       "              math score  reading score  writing score\n",
       "lunch                                                 \n",
       "free/reduced   58.921127      64.653521      63.022535\n",
       "standard       70.034109      71.654264      70.823256"
      ]
     },
     "execution_count": 14,
     "metadata": {},
     "output_type": "execute_result"
    }
   ],
   "source": [
    "education_df.groupby(\"lunch\").mean()[[\"math score\", \"reading score\", \"writing score\"]]"
   ]
  },
  {
   "cell_type": "code",
   "execution_count": 16,
   "metadata": {},
   "outputs": [
    {
     "data": {
      "text/plain": [
       "Ttest_indResult(statistic=array([-11.83718047,  -7.45105647,  -8.0097842 ]), pvalue=array([2.41319560e-30, 2.00279665e-13, 3.18618958e-15]))"
      ]
     },
     "execution_count": 16,
     "metadata": {},
     "output_type": "execute_result"
    }
   ],
   "source": [
    "ttest_ind(education_df[education_df.lunch == \"free/reduced\"][[\"math score\", \"reading score\", \"writing score\"]],\n",
    "          education_df[education_df.lunch == \"standard\"][[\"math score\", \"reading score\", \"writing score\"]])"
   ]
  },
  {
   "cell_type": "code",
   "execution_count": 17,
   "metadata": {},
   "outputs": [],
   "source": [
    "#Yes, students who have standard lunch are more successful than the others.\n",
    "\n"
   ]
  },
  {
   "cell_type": "code",
   "execution_count": 18,
   "metadata": {},
   "outputs": [
    {
     "data": {
      "text/html": [
       "<div>\n",
       "<style scoped>\n",
       "    .dataframe tbody tr th:only-of-type {\n",
       "        vertical-align: middle;\n",
       "    }\n",
       "\n",
       "    .dataframe tbody tr th {\n",
       "        vertical-align: top;\n",
       "    }\n",
       "\n",
       "    .dataframe thead th {\n",
       "        text-align: right;\n",
       "    }\n",
       "</style>\n",
       "<table border=\"1\" class=\"dataframe\">\n",
       "  <thead>\n",
       "    <tr style=\"text-align: right;\">\n",
       "      <th></th>\n",
       "      <th>math score</th>\n",
       "      <th>reading score</th>\n",
       "      <th>writing score</th>\n",
       "    </tr>\n",
       "    <tr>\n",
       "      <th>test preparation course</th>\n",
       "      <th></th>\n",
       "      <th></th>\n",
       "      <th></th>\n",
       "    </tr>\n",
       "  </thead>\n",
       "  <tbody>\n",
       "    <tr>\n",
       "      <th>completed</th>\n",
       "      <td>69.695531</td>\n",
       "      <td>73.893855</td>\n",
       "      <td>74.418994</td>\n",
       "    </tr>\n",
       "    <tr>\n",
       "      <th>none</th>\n",
       "      <td>64.077882</td>\n",
       "      <td>66.534268</td>\n",
       "      <td>64.504673</td>\n",
       "    </tr>\n",
       "  </tbody>\n",
       "</table>\n",
       "</div>"
      ],
      "text/plain": [
       "                         math score  reading score  writing score\n",
       "test preparation course                                          \n",
       "completed                 69.695531      73.893855      74.418994\n",
       "none                      64.077882      66.534268      64.504673"
      ]
     },
     "execution_count": 18,
     "metadata": {},
     "output_type": "execute_result"
    }
   ],
   "source": [
    "education_df.groupby(\"test preparation course\").mean()[[\"math score\", \"reading score\", \"writing score\"]]"
   ]
  },
  {
   "cell_type": "code",
   "execution_count": 19,
   "metadata": {},
   "outputs": [
    {
     "data": {
      "text/plain": [
       "Ttest_indResult(statistic=array([ 5.70461642,  7.87166354, 10.40917344]), pvalue=array([1.53591346e-08, 9.08178334e-15, 3.68529174e-24]))"
      ]
     },
     "execution_count": 19,
     "metadata": {},
     "output_type": "execute_result"
    }
   ],
   "source": [
    "\n",
    "ttest_ind(education_df[education_df[\"test preparation course\"] == \"completed\"][[\"math score\", \"reading score\", \"writing score\"]],\n",
    "          education_df[education_df[\"test preparation course\"] == \"none\"][[\"math score\", \"reading score\", \"writing score\"]])"
   ]
  },
  {
   "cell_type": "code",
   "execution_count": null,
   "metadata": {},
   "outputs": [],
   "source": []
  }
 ],
 "metadata": {
  "kernelspec": {
   "display_name": "Python 3",
   "language": "python",
   "name": "python3"
  },
  "language_info": {
   "codemirror_mode": {
    "name": "ipython",
    "version": 3
   },
   "file_extension": ".py",
   "mimetype": "text/x-python",
   "name": "python",
   "nbconvert_exporter": "python",
   "pygments_lexer": "ipython3",
   "version": "3.7.1"
  }
 },
 "nbformat": 4,
 "nbformat_minor": 2
}
