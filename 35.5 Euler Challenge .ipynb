{
 "cells": [
  {
   "cell_type": "markdown",
   "metadata": {},
   "source": [
    "### Project Euler\n",
    "Now that you’ve learned a little bit about algorithms and written some really simple but essential code, it’s time to put those skills to the test. There is one resource above all that helps data scientists and other engineers practice their mathematical programming skills: Project Euler.\n",
    "\n",
    "Project Euler is a fantastic set of mathematical programming problems. Use the skills we’ve discussed here to find efficient solutions to the first 10 problems. Once you’ve found your own solutions look around the web for others’ Python solutions to see other ways people have approached these problems.\n",
    "\n",
    "It’s a good idea to come back to Project Euler and continue to work through these problems. They are a really great way to sharpen your mathematical programming."
   ]
  },
  {
   "cell_type": "code",
   "execution_count": 1,
   "metadata": {},
   "outputs": [],
   "source": [
    "f = [1,2]\n",
    "while f[len(f) - 1] + f[len(f) - 2] < 4000000:\n",
    "    f.append(f[len(f)-1] + f[len(f)-2])"
   ]
  },
  {
   "cell_type": "code",
   "execution_count": 2,
   "metadata": {},
   "outputs": [
    {
     "data": {
      "text/plain": [
       "4613732"
      ]
     },
     "execution_count": 2,
     "metadata": {},
     "output_type": "execute_result"
    }
   ],
   "source": [
    "even_f = [i for i in f if i % 2 == 0]\n",
    "        \n",
    "sum(even_f)"
   ]
  },
  {
   "cell_type": "code",
   "execution_count": 3,
   "metadata": {},
   "outputs": [
    {
     "ename": "SyntaxError",
     "evalue": "invalid syntax (<ipython-input-3-ec95eb5666f6>, line 6)",
     "output_type": "error",
     "traceback": [
      "\u001b[0;36m  File \u001b[0;32m\"<ipython-input-3-ec95eb5666f6>\"\u001b[0;36m, line \u001b[0;32m6\u001b[0m\n\u001b[0;31m    print sum(multiples_of_3_or_5())\u001b[0m\n\u001b[0m            ^\u001b[0m\n\u001b[0;31mSyntaxError\u001b[0m\u001b[0;31m:\u001b[0m invalid syntax\n"
     ]
    }
   ],
   "source": [
    "    def multiples_of_3_or_5():\n",
    "        for number in xrange(1000):\n",
    "            if not number % 3 or not number % 5:\n",
    "                yield number\n",
    "\n",
    "    print sum(multiples_of_3_or_5())"
   ]
  },
  {
   "cell_type": "code",
   "execution_count": 4,
   "metadata": {},
   "outputs": [
    {
     "ename": "SyntaxError",
     "evalue": "invalid syntax (<ipython-input-4-d1800c4b91fa>, line 1)",
     "output_type": "error",
     "traceback": [
      "\u001b[0;36m  File \u001b[0;32m\"<ipython-input-4-d1800c4b91fa>\"\u001b[0;36m, line \u001b[0;32m1\u001b[0m\n\u001b[0;31m    print sum( number for number in xrange(1000) if not (number % 3 and number % 5) )\u001b[0m\n\u001b[0m            ^\u001b[0m\n\u001b[0;31mSyntaxError\u001b[0m\u001b[0;31m:\u001b[0m invalid syntax\n"
     ]
    }
   ],
   "source": [
    "    print sum( number for number in xrange(1000) if not (number % 3 and number % 5) )\n"
   ]
  },
  {
   "cell_type": "code",
   "execution_count": 5,
   "metadata": {},
   "outputs": [
    {
     "ename": "SyntaxError",
     "evalue": "invalid syntax (<ipython-input-5-882ae49d74d1>, line 18)",
     "output_type": "error",
     "traceback": [
      "\u001b[0;36m  File \u001b[0;32m\"<ipython-input-5-882ae49d74d1>\"\u001b[0;36m, line \u001b[0;32m18\u001b[0m\n\u001b[0;31m    print sum(even(under_a_million(fib())))\u001b[0m\n\u001b[0m            ^\u001b[0m\n\u001b[0;31mSyntaxError\u001b[0m\u001b[0;31m:\u001b[0m invalid syntax\n"
     ]
    }
   ],
   "source": [
    "    def fib():\n",
    "        x,y = 0,1\n",
    "        while True:\n",
    "            yield x\n",
    "            x,y = y, x+y\n",
    "\n",
    "    def even(seq):\n",
    "        for number in seq:\n",
    "            if not number % 2:\n",
    "                yield number\n",
    "\n",
    "    def under_a_million(seq):\n",
    "        for number in seq:\n",
    "            if number > 1000000:\n",
    "                break\n",
    "            yield number   \n",
    "\n",
    "    print sum(even(under_a_million(fib())))"
   ]
  },
  {
   "cell_type": "code",
   "execution_count": 7,
   "metadata": {},
   "outputs": [
    {
     "ename": "SyntaxError",
     "evalue": "invalid syntax (<ipython-input-7-0ff143bbb001>, line 9)",
     "output_type": "error",
     "traceback": [
      "\u001b[0;36m  File \u001b[0;32m\"<ipython-input-7-0ff143bbb001>\"\u001b[0;36m, line \u001b[0;32m9\u001b[0m\n\u001b[0;31m    print sum(x for x in itertools.takewhile(lambda x: x <= 1000000, fib()) if x % 2 == 0)\u001b[0m\n\u001b[0m            ^\u001b[0m\n\u001b[0;31mSyntaxError\u001b[0m\u001b[0;31m:\u001b[0m invalid syntax\n"
     ]
    }
   ],
   "source": [
    "import itertools\n",
    "\n",
    "def fib():\n",
    "        x,y = 0,1\n",
    "        while True:\n",
    "            yield x\n",
    "            x,y = y, x+y\n",
    "\n",
    "print sum(x for x in itertools.takewhile(lambda x: x <= 1000000, fib()) if x % 2 == 0)"
   ]
  },
  {
   "cell_type": "code",
   "execution_count": 9,
   "metadata": {},
   "outputs": [
    {
     "ename": "IndentationError",
     "evalue": "unindent does not match any outer indentation level (<tokenize>, line 6)",
     "output_type": "error",
     "traceback": [
      "\u001b[0;36m  File \u001b[0;32m\"<tokenize>\"\u001b[0;36m, line \u001b[0;32m6\u001b[0m\n\u001b[0;31m    all_palindromes.push(number) if word == word.reverse\u001b[0m\n\u001b[0m    ^\u001b[0m\n\u001b[0;31mIndentationError\u001b[0m\u001b[0;31m:\u001b[0m unindent does not match any outer indentation level\n"
     ]
    }
   ],
   "source": [
    "all_palindromes = []\n",
    "(0..999).each do |x|\n",
    "  (0..999).each do |y|\n",
    "    number = x * y \n",
    "    word = number.to_s \n",
    "   all_palindromes.push(number) if word == word.reverse\n",
    "  end \n",
    "end\n",
    "  \n",
    "answer = all_palindromes.max"
   ]
  },
  {
   "cell_type": "code",
   "execution_count": 10,
   "metadata": {},
   "outputs": [],
   "source": [
    "\n",
    "import array, math, sys\n",
    "if sys.version_info.major == 2:\n",
    "\trange = xrange\n",
    "\n",
    "\n",
    "# Returns the number of 1's in the binary representation of\n",
    "# the non-negative integer x. Also known as Hamming weight.\n",
    "def popcount(x):\n",
    "\treturn bin(x).count(\"1\")\n",
    "\n",
    "\n",
    "# Given integer x, this returns the integer floor(sqrt(x)).\n",
    "def sqrt(x):\n",
    "\tassert x >= 0\n",
    "\ti = 1\n",
    "\twhile i * i <= x:\n",
    "\t\ti *= 2\n",
    "\ty = 0\n",
    "\twhile i > 0:\n",
    "\t\tif (y + i)**2 <= x:\n",
    "\t\t\ty += i\n",
    "\t\ti //= 2\n",
    "\treturn y\n",
    "\n",
    "\n",
    "# Tests whether x is a perfect square, for any integer x.\n",
    "def is_square(x):\n",
    "\tif x < 0:\n",
    "\t\treturn False\n",
    "\ty = sqrt(x)\n",
    "\treturn y * y == x\n",
    "\n",
    "\n",
    "# Tests whether the given integer is a prime number.\n",
    "def is_prime(x):\n",
    "\tif x <= 1:\n",
    "\t\treturn False\n",
    "\telif x <= 3:\n",
    "\t\treturn True\n",
    "\telif x % 2 == 0:\n",
    "\t\treturn False\n",
    "\telse:\n",
    "\t\tfor i in range(3, sqrt(x) + 1, 2):\n",
    "\t\t\tif x % i == 0:\n",
    "\t\t\t\treturn False\n",
    "\t\treturn True\n",
    "\n",
    "\n",
    "# Returns a list of True and False indicating whether each number is prime.\n",
    "# For 0 <= i <= n, result[i] is True if i is a prime number, False otherwise.\n",
    "def list_primality(n):\n",
    "\t# Sieve of Eratosthenes\n",
    "\tresult = [True] * (n + 1)\n",
    "\tresult[0] = result[1] = False\n",
    "\tfor i in range(sqrt(n) + 1):\n",
    "\t\tif result[i]:\n",
    "\t\t\tfor j in range(i * i, len(result), i):\n",
    "\t\t\t\tresult[j] = False\n",
    "\treturn result\n",
    "\n",
    "\n",
    "# Returns all the prime numbers less than or equal to n, in ascending order.\n",
    "# For example: listPrimes(97) = [2, 3, 5, 7, 11, 13, 17, 19, 23, 29, ..., 83, 89, 97].\n",
    "def list_primes(n):\n",
    "\treturn [i for (i, isprime) in enumerate(list_primality(n)) if isprime]\n",
    "\n",
    "\n",
    "# Yields prime numbers in ascending order from 2 to limit (inclusive).\n",
    "def prime_generator(limit):\n",
    "\tif limit >= 2:\n",
    "\t\tyield 2\n",
    "\t\n",
    "\t# Sieve of Eratosthenes, storing only odd numbers starting at 3\n",
    "\tisprime = array.array(\"B\", b\"\\x01\" * ((limit - 1) // 2))\n",
    "\tsieveend = sqrt(limit)\n",
    "\tfor i in range(len(isprime)):\n",
    "\t\tif isprime[i] == 1:\n",
    "\t\t\tp = i * 2 + 3\n",
    "\t\t\tyield p\n",
    "\t\t\tif i <= sieveend:\n",
    "\t\t\t\tfor j in range((p * p - 3) >> 1, len(isprime), p):\n",
    "\t\t\t\t\tisprime[j] = 0\n",
    "\n",
    "\n",
    "def list_smallest_prime_factors(n):\n",
    "\tresult = [None] * (n + 1)\n",
    "\tlimit = sqrt(n)\n",
    "\tfor i in range(2, len(result)):\n",
    "\t\tif result[i] is None:\n",
    "\t\t\tresult[i] = i\n",
    "\t\t\tif i <= limit:\n",
    "\t\t\t\tfor j in range(i * i, n + 1, i):\n",
    "\t\t\t\t\tif result[j] is None:\n",
    "\t\t\t\t\t\tresult[j] = i\n",
    "\treturn result\n",
    "\n",
    "\n",
    "def list_totients(n):\n",
    "\tresult = list(range(n + 1))\n",
    "\tfor i in range(2, len(result)):\n",
    "\t\tif result[i] == i:  # i is prime\n",
    "\t\t\tfor j in range(i, len(result), i):\n",
    "\t\t\t\tresult[j] -= result[j] // i\n",
    "\treturn result\n",
    "\n",
    "\n",
    "def binomial(n, k):\n",
    "\tassert 0 <= k <= n\n",
    "\treturn math.factorial(n) // (math.factorial(k) * math.factorial(n - k))\n",
    "\n",
    "\n",
    "# Returns x^-1 mod m. Note that x * x^-1 mod m = x^-1 * x mod m = 1.\n",
    "def reciprocal_mod(x, m):\n",
    "\tassert 0 <= x < m\n",
    "\t\n",
    "\t# Based on a simplification of the extended Euclidean algorithm\n",
    "\ty = x\n",
    "\tx = m\n",
    "\ta = 0\n",
    "\tb = 1\n",
    "\twhile y != 0:\n",
    "\t\ta, b = b, a - x // y * b\n",
    "\t\tx, y = y, x % y\n",
    "\tif x == 1:\n",
    "\t\treturn a % m\n",
    "\telse:\n",
    "\t\traise ValueError(\"Reciprocal does not exist\")\n",
    "\n",
    "\n",
    "def next_permutation(arr):\n",
    "\t# Find non-increasing suffix\n",
    "\ti = len(arr) - 1\n",
    "\twhile i > 0 and arr[i - 1] >= arr[i]:\n",
    "\t\ti -= 1\n",
    "\tif i <= 0:\n",
    "\t\treturn False\n",
    "\t\n",
    "\t# Find successor to pivot\n",
    "\tj = len(arr) - 1\n",
    "\twhile arr[j] <= arr[i - 1]:\n",
    "\t\tj -= 1\n",
    "\tarr[i - 1], arr[j] = arr[j], arr[i - 1]\n",
    "\t\n",
    "\t# Reverse suffix\n",
    "\tarr[i : ] = arr[len(arr) - 1 : i - 1 : -1]\n",
    "\treturn True\n",
    "\n",
    "\n",
    "# Decorator. The underlying function must take only positional arguments, no keyword arguments.\n",
    "class memoize(object):\n",
    "\t\n",
    "\tdef __init__(self, func):\n",
    "\t\tself.func = func\n",
    "\t\tself.cache = {}\n",
    "\t\n",
    "\tdef __call__(self, *args):\n",
    "\t\tif args in self.cache:\n",
    "\t\t\treturn self.cache[args]\n",
    "\t\telse:\n",
    "\t\t\tval = self.func(*args)\n",
    "\t\t\tself.cache[args] = val\n",
    "\t\t\treturn val"
   ]
  },
  {
   "cell_type": "markdown",
   "metadata": {},
   "source": [
    "### 1. If we list all the natural numbers below 10 that are multiples of 3 or 5, we get 3, 5, 6 and 9. The sum of these multiples is 23.\n",
    "\n",
    "Find the sum of all the multiples of 3 or 5 below 1000."
   ]
  },
  {
   "cell_type": "code",
   "execution_count": 11,
   "metadata": {},
   "outputs": [
    {
     "name": "stdout",
     "output_type": "stream",
     "text": [
      "233168\n"
     ]
    }
   ],
   "source": [
    "# Computers are fast, so we can implement this solution directly without any clever math.\n",
    "def compute():\n",
    "\tans = sum(x for x in range(1000) if (x % 3 == 0 or x % 5 == 0))\n",
    "\treturn str(ans)\n",
    "\n",
    "\n",
    "if __name__ == \"__main__\":\n",
    "\tprint(compute())"
   ]
  },
  {
   "cell_type": "markdown",
   "metadata": {},
   "source": [
    "### 2. Each new term in the Fibonacci sequence is generated by adding the previous two terms. By starting with 1 and 2, the first 10 terms will be:\n",
    "\n",
    "1, 2, 3, 5, 8, 13, 21, 34, 55, 89, ...\n",
    "\n",
    "By considering the terms in the Fibonacci sequence whose values do not exceed four million, find the sum of the even-valued terms."
   ]
  },
  {
   "cell_type": "code",
   "execution_count": 12,
   "metadata": {},
   "outputs": [
    {
     "name": "stdout",
     "output_type": "stream",
     "text": [
      "4613732\n"
     ]
    }
   ],
   "source": [
    "def compute():\n",
    "\tans = 0\n",
    "\tx = 1  # Represents the current Fibonacci number being processed\n",
    "\ty = 2  # Represents the next Fibonacci number in the sequence\n",
    "\twhile x <= 4000000:\n",
    "\t\tif x % 2 == 0:\n",
    "\t\t\tans += x\n",
    "\t\tx, y = y, x + y\n",
    "\treturn str(ans)\n",
    "\n",
    "\n",
    "if __name__ == \"__main__\":\n",
    "\tprint(compute())"
   ]
  },
  {
   "cell_type": "markdown",
   "metadata": {},
   "source": [
    "### 3. The prime factors of 13195 are 5, 7, 13 and 29.\n",
    "\n",
    "What is the largest prime factor of the number 600851475143 ?"
   ]
  },
  {
   "cell_type": "code",
   "execution_count": 16,
   "metadata": {},
   "outputs": [
    {
     "ename": "AttributeError",
     "evalue": "module 'eulerlib' has no attribute 'sqrt'",
     "output_type": "error",
     "traceback": [
      "\u001b[0;31m---------------------------------------------------------------------------\u001b[0m",
      "\u001b[0;31mAttributeError\u001b[0m                            Traceback (most recent call last)",
      "\u001b[0;32m<ipython-input-16-c1a72ada20bf>\u001b[0m in \u001b[0;36m<module>\u001b[0;34m\u001b[0m\n\u001b[1;32m     26\u001b[0m \u001b[0;34m\u001b[0m\u001b[0m\n\u001b[1;32m     27\u001b[0m \u001b[0;32mif\u001b[0m \u001b[0m__name__\u001b[0m \u001b[0;34m==\u001b[0m \u001b[0;34m\"__main__\"\u001b[0m\u001b[0;34m:\u001b[0m\u001b[0;34m\u001b[0m\u001b[0;34m\u001b[0m\u001b[0m\n\u001b[0;32m---> 28\u001b[0;31m         \u001b[0mprint\u001b[0m\u001b[0;34m(\u001b[0m\u001b[0mcompute\u001b[0m\u001b[0;34m(\u001b[0m\u001b[0;34m)\u001b[0m\u001b[0;34m)\u001b[0m\u001b[0;34m\u001b[0m\u001b[0;34m\u001b[0m\u001b[0m\n\u001b[0m",
      "\u001b[0;32m<ipython-input-16-c1a72ada20bf>\u001b[0m in \u001b[0;36mcompute\u001b[0;34m()\u001b[0m\n\u001b[1;32m      9\u001b[0m         \u001b[0mn\u001b[0m \u001b[0;34m=\u001b[0m \u001b[0;36m600851475143\u001b[0m\u001b[0;34m\u001b[0m\u001b[0;34m\u001b[0m\u001b[0m\n\u001b[1;32m     10\u001b[0m         \u001b[0;32mwhile\u001b[0m \u001b[0;32mTrue\u001b[0m\u001b[0;34m:\u001b[0m\u001b[0;34m\u001b[0m\u001b[0;34m\u001b[0m\u001b[0m\n\u001b[0;32m---> 11\u001b[0;31m                 \u001b[0mp\u001b[0m \u001b[0;34m=\u001b[0m \u001b[0msmallest_prime_factor\u001b[0m\u001b[0;34m(\u001b[0m\u001b[0mn\u001b[0m\u001b[0;34m)\u001b[0m\u001b[0;34m\u001b[0m\u001b[0;34m\u001b[0m\u001b[0m\n\u001b[0m\u001b[1;32m     12\u001b[0m                 \u001b[0;32mif\u001b[0m \u001b[0mp\u001b[0m \u001b[0;34m<\u001b[0m \u001b[0mn\u001b[0m\u001b[0;34m:\u001b[0m\u001b[0;34m\u001b[0m\u001b[0;34m\u001b[0m\u001b[0m\n\u001b[1;32m     13\u001b[0m                         \u001b[0mn\u001b[0m \u001b[0;34m//=\u001b[0m \u001b[0mp\u001b[0m\u001b[0;34m\u001b[0m\u001b[0;34m\u001b[0m\u001b[0m\n",
      "\u001b[0;32m<ipython-input-16-c1a72ada20bf>\u001b[0m in \u001b[0;36msmallest_prime_factor\u001b[0;34m(n)\u001b[0m\n\u001b[1;32m     19\u001b[0m \u001b[0;32mdef\u001b[0m \u001b[0msmallest_prime_factor\u001b[0m\u001b[0;34m(\u001b[0m\u001b[0mn\u001b[0m\u001b[0;34m)\u001b[0m\u001b[0;34m:\u001b[0m\u001b[0;34m\u001b[0m\u001b[0;34m\u001b[0m\u001b[0m\n\u001b[1;32m     20\u001b[0m         \u001b[0;32massert\u001b[0m \u001b[0mn\u001b[0m \u001b[0;34m>=\u001b[0m \u001b[0;36m2\u001b[0m\u001b[0;34m\u001b[0m\u001b[0;34m\u001b[0m\u001b[0m\n\u001b[0;32m---> 21\u001b[0;31m         \u001b[0;32mfor\u001b[0m \u001b[0mi\u001b[0m \u001b[0;32min\u001b[0m \u001b[0mrange\u001b[0m\u001b[0;34m(\u001b[0m\u001b[0;36m2\u001b[0m\u001b[0;34m,\u001b[0m \u001b[0meulerlib\u001b[0m\u001b[0;34m.\u001b[0m\u001b[0msqrt\u001b[0m\u001b[0;34m(\u001b[0m\u001b[0mn\u001b[0m\u001b[0;34m)\u001b[0m \u001b[0;34m+\u001b[0m \u001b[0;36m1\u001b[0m\u001b[0;34m)\u001b[0m\u001b[0;34m:\u001b[0m\u001b[0;34m\u001b[0m\u001b[0;34m\u001b[0m\u001b[0m\n\u001b[0m\u001b[1;32m     22\u001b[0m                 \u001b[0;32mif\u001b[0m \u001b[0mn\u001b[0m \u001b[0;34m%\u001b[0m \u001b[0mi\u001b[0m \u001b[0;34m==\u001b[0m \u001b[0;36m0\u001b[0m\u001b[0;34m:\u001b[0m\u001b[0;34m\u001b[0m\u001b[0;34m\u001b[0m\u001b[0m\n\u001b[1;32m     23\u001b[0m                         \u001b[0;32mreturn\u001b[0m \u001b[0mi\u001b[0m\u001b[0;34m\u001b[0m\u001b[0;34m\u001b[0m\u001b[0m\n",
      "\u001b[0;31mAttributeError\u001b[0m: module 'eulerlib' has no attribute 'sqrt'"
     ]
    }
   ],
   "source": [
    "import eulerlib\n",
    "\n",
    "\n",
    "# By the fundamental theorem of arithmetic, every integer n > 1 has a unique factorization as a product of prime numbers.\n",
    "# In other words, the theorem says that n = p_0 * p_1 * ... * p_{m-1}, where each p_i > 1 is prime but not necessarily unique.\n",
    "# Now if we take the number n and repeatedly divide out its smallest factor (which must also be prime), then the last\n",
    "# factor that we divide out must be the largest prime factor of n. For reference, 600851475143 = 71 * 839 * 1471 * 6857.\n",
    "def compute():\n",
    "\tn = 600851475143\n",
    "\twhile True:\n",
    "\t\tp = smallest_prime_factor(n)\n",
    "\t\tif p < n:\n",
    "\t\t\tn //= p\n",
    "\t\telse:\n",
    "\t\t\treturn str(n)\n",
    "\n",
    "\n",
    "# Returns the smallest factor of n, which is in the range [2, n]. The result is always prime.\n",
    "def smallest_prime_factor(n):\n",
    "\tassert n >= 2\n",
    "\tfor i in range(2, eulerlib.sqrt(n) + 1):\n",
    "\t\tif n % i == 0:\n",
    "\t\t\treturn i\n",
    "\treturn n  # n itself is prime\n",
    "\n",
    "\n",
    "if __name__ == \"__main__\":\n",
    "\tprint(compute())"
   ]
  },
  {
   "cell_type": "markdown",
   "metadata": {},
   "source": [
    "### 4. A palindromic number reads the same both ways. The largest palindrome made from the product of two 2-digit numbers is 9009 = 91 × 99.\n",
    "\n",
    "Find the largest palindrome made from the product of two 3-digit numbers."
   ]
  },
  {
   "cell_type": "code",
   "execution_count": 17,
   "metadata": {},
   "outputs": [
    {
     "name": "stdout",
     "output_type": "stream",
     "text": [
      "906609\n"
     ]
    }
   ],
   "source": [
    "def compute():\n",
    "\tans = max(i * j\n",
    "\t\tfor i in range(100, 1000)\n",
    "\t\tfor j in range(100, 1000)\n",
    "\t\tif str(i * j) == str(i * j)[ : : -1])\n",
    "\treturn str(ans)\n",
    "\n",
    "\n",
    "if __name__ == \"__main__\":\n",
    "\tprint(compute())"
   ]
  },
  {
   "cell_type": "markdown",
   "metadata": {},
   "source": [
    "### 5. 2520 is the smallest number that can be divided by each of the numbers from 1 to 10 without any remainder.\n",
    "\n",
    "What is the smallest positive number that is evenly divisible by all of the numbers from 1 to 20?"
   ]
  },
  {
   "cell_type": "code",
   "execution_count": 18,
   "metadata": {},
   "outputs": [
    {
     "name": "stdout",
     "output_type": "stream",
     "text": [
      "232792560\n"
     ]
    },
    {
     "name": "stderr",
     "output_type": "stream",
     "text": [
      "/anaconda3/lib/python3.7/site-packages/ipykernel_launcher.py:12: DeprecationWarning: fractions.gcd() is deprecated. Use math.gcd() instead.\n",
      "  if sys.path[0] == '':\n"
     ]
    }
   ],
   "source": [
    "import fractions\n",
    "\n",
    "\n",
    "# The smallest number n that is evenly divisible by every number in a set {k1, k2, ..., k_m}\n",
    "# is also known as the lowest common multiple (LCM) of the set of numbers.\n",
    "# The LCM of two natural numbers x and y is given by LCM(x, y) = x * y / GCD(x, y).\n",
    "# When LCM is applied to a collection of numbers, it is commutative, associative, and idempotent.\n",
    "# Hence LCM(k1, k2, ..., k_m) = LCM(...(LCM(LCM(k1, k2), k3)...), k_m).\n",
    "def compute():\n",
    "\tans = 1\n",
    "\tfor i in range(1, 21):\n",
    "\t\tans *= i // fractions.gcd(i, ans)\n",
    "\treturn str(ans)\n",
    "\n",
    "\n",
    "if __name__ == \"__main__\":\n",
    "\tprint(compute())"
   ]
  },
  {
   "cell_type": "markdown",
   "metadata": {},
   "source": [
    "### 6. The sum of the squares of the first ten natural numbers is,\n",
    "\n",
    "12 + 22 + ... + 102 = 385\n",
    "The square of the sum of the first ten natural numbers is,\n",
    "\n",
    "(1 + 2 + ... + 10)2 = 552 = 3025\n",
    "Hence the difference between the sum of the squares of the first ten natural numbers and the square of the sum is 3025 − 385 = 2640.\n",
    "\n",
    "Find the difference between the sum of the squares of the first one hundred natural numbers and the square of the sum."
   ]
  },
  {
   "cell_type": "code",
   "execution_count": 19,
   "metadata": {},
   "outputs": [
    {
     "name": "stdout",
     "output_type": "stream",
     "text": [
      "25164150\n"
     ]
    }
   ],
   "source": [
    "def compute():\n",
    "\tN = 100\n",
    "\ts = sum(i for i in range(1, N + 1))\n",
    "\ts2 = sum(i**2 for i in range(1, N + 1))\n",
    "\treturn str(s**2 - s2)\n",
    "\n",
    "\n",
    "if __name__ == \"__main__\":\n",
    "\tprint(compute())"
   ]
  },
  {
   "cell_type": "markdown",
   "metadata": {},
   "source": [
    "### 7. By listing the first six prime numbers: 2, 3, 5, 7, 11, and 13, we can see that the 6th prime is 13.\n",
    "\n",
    "What is the 10 001st prime number?"
   ]
  },
  {
   "cell_type": "code",
   "execution_count": 20,
   "metadata": {},
   "outputs": [
    {
     "name": "stdout",
     "output_type": "stream",
     "text": [
      "104743\n"
     ]
    }
   ],
   "source": [
    "import eulerlib, itertools, sys\n",
    "if sys.version_info.major == 2:\n",
    "\tfilter = itertools.ifilter\n",
    "\n",
    "\n",
    "# Computers are fast, so we can implement this solution by testing each number\n",
    "# individually for primeness, instead of using the more efficient sieve of Eratosthenes.\n",
    "# \n",
    "# The algorithm starts with an infinite stream of incrementing integers starting at 2,\n",
    "# filters them to keep only the prime numbers, drops the first 10000 items,\n",
    "# and finally returns the first item thereafter.\n",
    "def compute():\n",
    "\tans = next(itertools.islice(filter(eulerlib.is_prime, itertools.count(2)), 10000, None))\n",
    "\treturn str(ans)\n",
    "\n",
    "\n",
    "if __name__ == \"__main__\":\n",
    "\tprint(compute())"
   ]
  },
  {
   "cell_type": "markdown",
   "metadata": {},
   "source": [
    "### 8. The four adjacent digits in the 1000-digit number that have the greatest product are 9 × 9 × 8 × 9 = 5832.\n",
    "\n",
    "73167176531330624919225119674426574742355349194934\n",
    "96983520312774506326239578318016984801869478851843\n",
    "85861560789112949495459501737958331952853208805511\n",
    "12540698747158523863050715693290963295227443043557\n",
    "66896648950445244523161731856403098711121722383113\n",
    "62229893423380308135336276614282806444486645238749\n",
    "30358907296290491560440772390713810515859307960866\n",
    "70172427121883998797908792274921901699720888093776\n",
    "65727333001053367881220235421809751254540594752243\n",
    "52584907711670556013604839586446706324415722155397\n",
    "53697817977846174064955149290862569321978468622482\n",
    "83972241375657056057490261407972968652414535100474\n",
    "82166370484403199890008895243450658541227588666881\n",
    "16427171479924442928230863465674813919123162824586\n",
    "17866458359124566529476545682848912883142607690042\n",
    "24219022671055626321111109370544217506941658960408\n",
    "07198403850962455444362981230987879927244284909188\n",
    "84580156166097919133875499200524063689912560717606\n",
    "05886116467109405077541002256983155200055935729725\n",
    "71636269561882670428252483600823257530420752963450\n",
    "\n",
    "Find the thirteen adjacent digits in the 1000-digit number that have the greatest product. What is the value of this product?"
   ]
  },
  {
   "cell_type": "code",
   "execution_count": 21,
   "metadata": {},
   "outputs": [
    {
     "name": "stdout",
     "output_type": "stream",
     "text": [
      "23514624000\n"
     ]
    }
   ],
   "source": [
    "def compute():\n",
    "\tans = max(digit_product(NUMBER[i : i + ADJACENT]) for i in range(len(NUMBER) - ADJACENT + 1))\n",
    "\treturn str(ans)\n",
    "\n",
    "\n",
    "def digit_product(s):\n",
    "\tresult = 1\n",
    "\tfor c in s:\n",
    "\t\tresult *= int(c)\n",
    "\treturn result\n",
    "\n",
    "\n",
    "NUMBER = \"7316717653133062491922511967442657474235534919493496983520312774506326239578318016984801869478851843858615607891129494954595017379583319528532088055111254069874715852386305071569329096329522744304355766896648950445244523161731856403098711121722383113622298934233803081353362766142828064444866452387493035890729629049156044077239071381051585930796086670172427121883998797908792274921901699720888093776657273330010533678812202354218097512545405947522435258490771167055601360483958644670632441572215539753697817977846174064955149290862569321978468622482839722413756570560574902614079729686524145351004748216637048440319989000889524345065854122758866688116427171479924442928230863465674813919123162824586178664583591245665294765456828489128831426076900422421902267105562632111110937054421750694165896040807198403850962455444362981230987879927244284909188845801561660979191338754992005240636899125607176060588611646710940507754100225698315520005593572972571636269561882670428252483600823257530420752963450\"\n",
    "ADJACENT = 13\n",
    "\n",
    "\n",
    "if __name__ == \"__main__\":\n",
    "\tprint(compute())"
   ]
  },
  {
   "cell_type": "markdown",
   "metadata": {},
   "source": [
    "### 9. A Pythagorean triplet is a set of three natural numbers, a < b < c, for which,\n",
    "\n",
    "a2 + b2 = c2\n",
    "For example, 32 + 42 = 9 + 16 = 25 = 52.\n",
    "\n",
    "There exists exactly one Pythagorean triplet for which a + b + c = 1000.\n",
    "Find the product abc."
   ]
  },
  {
   "cell_type": "code",
   "execution_count": 22,
   "metadata": {},
   "outputs": [
    {
     "name": "stdout",
     "output_type": "stream",
     "text": [
      "31875000\n"
     ]
    }
   ],
   "source": [
    "def compute():\n",
    "\tPERIMETER = 1000\n",
    "\tfor a in range(1, PERIMETER + 1):\n",
    "\t\tfor b in range(a + 1, PERIMETER + 1):\n",
    "\t\t\tc = PERIMETER - a - b\n",
    "\t\t\tif a * a + b * b == c * c:\n",
    "\t\t\t\t# It is now implied that b < c, because we have a > 0\n",
    "\t\t\t\treturn str(a * b * c)\n",
    "\n",
    "\n",
    "if __name__ == \"__main__\":\n",
    "\tprint(compute())"
   ]
  },
  {
   "cell_type": "markdown",
   "metadata": {},
   "source": [
    "### 10. The sum of the primes below 10 is 2 + 3 + 5 + 7 = 17.\n",
    "\n",
    "Find the sum of all the primes below two million."
   ]
  },
  {
   "cell_type": "code",
   "execution_count": 23,
   "metadata": {},
   "outputs": [
    {
     "ename": "AttributeError",
     "evalue": "module 'eulerlib' has no attribute 'list_primes'",
     "output_type": "error",
     "traceback": [
      "\u001b[0;31m---------------------------------------------------------------------------\u001b[0m",
      "\u001b[0;31mAttributeError\u001b[0m                            Traceback (most recent call last)",
      "\u001b[0;32m<ipython-input-23-c27fa5178aca>\u001b[0m in \u001b[0;36m<module>\u001b[0;34m\u001b[0m\n\u001b[1;32m      9\u001b[0m \u001b[0;34m\u001b[0m\u001b[0m\n\u001b[1;32m     10\u001b[0m \u001b[0;32mif\u001b[0m \u001b[0m__name__\u001b[0m \u001b[0;34m==\u001b[0m \u001b[0;34m\"__main__\"\u001b[0m\u001b[0;34m:\u001b[0m\u001b[0;34m\u001b[0m\u001b[0;34m\u001b[0m\u001b[0m\n\u001b[0;32m---> 11\u001b[0;31m         \u001b[0mprint\u001b[0m\u001b[0;34m(\u001b[0m\u001b[0mcompute\u001b[0m\u001b[0;34m(\u001b[0m\u001b[0;34m)\u001b[0m\u001b[0;34m)\u001b[0m\u001b[0;34m\u001b[0m\u001b[0;34m\u001b[0m\u001b[0m\n\u001b[0m",
      "\u001b[0;32m<ipython-input-23-c27fa5178aca>\u001b[0m in \u001b[0;36mcompute\u001b[0;34m()\u001b[0m\n\u001b[1;32m      4\u001b[0m \u001b[0;31m# Call the sieve of Eratosthenes and sum the primes found.\u001b[0m\u001b[0;34m\u001b[0m\u001b[0;34m\u001b[0m\u001b[0;34m\u001b[0m\u001b[0m\n\u001b[1;32m      5\u001b[0m \u001b[0;32mdef\u001b[0m \u001b[0mcompute\u001b[0m\u001b[0;34m(\u001b[0m\u001b[0;34m)\u001b[0m\u001b[0;34m:\u001b[0m\u001b[0;34m\u001b[0m\u001b[0;34m\u001b[0m\u001b[0m\n\u001b[0;32m----> 6\u001b[0;31m         \u001b[0mans\u001b[0m \u001b[0;34m=\u001b[0m \u001b[0msum\u001b[0m\u001b[0;34m(\u001b[0m\u001b[0meulerlib\u001b[0m\u001b[0;34m.\u001b[0m\u001b[0mlist_primes\u001b[0m\u001b[0;34m(\u001b[0m\u001b[0;36m1999999\u001b[0m\u001b[0;34m)\u001b[0m\u001b[0;34m)\u001b[0m\u001b[0;34m\u001b[0m\u001b[0;34m\u001b[0m\u001b[0m\n\u001b[0m\u001b[1;32m      7\u001b[0m         \u001b[0;32mreturn\u001b[0m \u001b[0mstr\u001b[0m\u001b[0;34m(\u001b[0m\u001b[0mans\u001b[0m\u001b[0;34m)\u001b[0m\u001b[0;34m\u001b[0m\u001b[0;34m\u001b[0m\u001b[0m\n\u001b[1;32m      8\u001b[0m \u001b[0;34m\u001b[0m\u001b[0m\n",
      "\u001b[0;31mAttributeError\u001b[0m: module 'eulerlib' has no attribute 'list_primes'"
     ]
    }
   ],
   "source": [
    "import eulerlib\n",
    "\n",
    "\n",
    "# Call the sieve of Eratosthenes and sum the primes found.\n",
    "def compute():\n",
    "\tans = sum(eulerlib.list_primes(1999999))\n",
    "\treturn str(ans)\n",
    "\n",
    "\n",
    "if __name__ == \"__main__\":\n",
    "\tprint(compute())"
   ]
  },
  {
   "cell_type": "markdown",
   "metadata": {},
   "source": [
    "### 11.  In the 20×20 grid below, four numbers along a diagonal line have been marked in red.\n",
    "\n",
    "08 02 22 97 38 15 00 40 00 75 04 05 07 78 52 12 50 77 91 08\n",
    "49 49 99 40 17 81 18 57 60 87 17 40 98 43 69 48 04 56 62 00\n",
    "81 49 31 73 55 79 14 29 93 71 40 67 53 88 30 03 49 13 36 65\n",
    "52 70 95 23 04 60 11 42 69 24 68 56 01 32 56 71 37 02 36 91\n",
    "22 31 16 71 51 67 63 89 41 92 36 54 22 40 40 28 66 33 13 80\n",
    "24 47 32 60 99 03 45 02 44 75 33 53 78 36 84 20 35 17 12 50\n",
    "32 98 81 28 64 23 67 10 26 38 40 67 59 54 70 66 18 38 64 70\n",
    "67 26 20 68 02 62 12 20 95 63 94 39 63 08 40 91 66 49 94 21\n",
    "24 55 58 05 66 73 99 26 97 17 78 78 96 83 14 88 34 89 63 72\n",
    "21 36 23 09 75 00 76 44 20 45 35 14 00 61 33 97 34 31 33 95\n",
    "78 17 53 28 22 75 31 67 15 94 03 80 04 62 16 14 09 53 56 92\n",
    "16 39 05 42 96 35 31 47 55 58 88 24 00 17 54 24 36 29 85 57\n",
    "86 56 00 48 35 71 89 07 05 44 44 37 44 60 21 58 51 54 17 58\n",
    "19 80 81 68 05 94 47 69 28 73 92 13 86 52 17 77 04 89 55 40\n",
    "04 52 08 83 97 35 99 16 07 97 57 32 16 26 26 79 33 27 98 66\n",
    "88 36 68 87 57 62 20 72 03 46 33 67 46 55 12 32 63 93 53 69\n",
    "04 42 16 73 38 25 39 11 24 94 72 18 08 46 29 32 40 62 76 36\n",
    "20 69 36 41 72 30 23 88 34 62 99 69 82 67 59 85 74 04 36 16\n",
    "20 73 35 29 78 31 90 01 74 31 49 71 48 86 81 16 23 57 05 54\n",
    "01 70 54 71 83 51 54 69 16 92 33 48 61 43 52 01 89 19 67 48\n",
    "\n",
    "The product of these numbers is 26 × 63 × 78 × 14 = 1788696.\n",
    "\n",
    "What is the greatest product of four adjacent numbers in the same direction (up, down, left, right, or diagonally) in the 20×20 grid?"
   ]
  },
  {
   "cell_type": "code",
   "execution_count": 24,
   "metadata": {},
   "outputs": [
    {
     "name": "stdout",
     "output_type": "stream",
     "text": [
      "70600674\n"
     ]
    }
   ],
   "source": [
    "def compute():\n",
    "\tans = -1\n",
    "\twidth = len(GRID[0])\n",
    "\theight = len(GRID)\n",
    "\tfor y in range(height):\n",
    "\t\tfor x in range(width):\n",
    "\t\t\tif x + CONSECUTIVE <= width:\n",
    "\t\t\t\tans = max(grid_product(x, y,  1, 0, CONSECUTIVE), ans)\n",
    "\t\t\tif y + CONSECUTIVE <= height:\n",
    "\t\t\t\tans = max(grid_product(x, y,  0, 1, CONSECUTIVE), ans)\n",
    "\t\t\tif x + CONSECUTIVE <= width and y + CONSECUTIVE <= height:\n",
    "\t\t\t\tans = max(grid_product(x, y,  1, 1, CONSECUTIVE), ans)\n",
    "\t\t\tif x - CONSECUTIVE >= -1    and y + CONSECUTIVE <= height:\n",
    "\t\t\t\tans = max(grid_product(x, y, -1, 1, CONSECUTIVE), ans)\n",
    "\treturn str(ans)\n",
    "\n",
    "\n",
    "def grid_product(ox, oy, dx, dy, n):\n",
    "\tresult = 1\n",
    "\tfor i in range(n):\n",
    "\t\tresult *= GRID[oy + i * dy][ox + i * dx]\n",
    "\treturn result\n",
    "\n",
    "\n",
    "GRID = [\n",
    "\t[ 8, 2,22,97,38,15, 0,40, 0,75, 4, 5, 7,78,52,12,50,77,91, 8],\n",
    "\t[49,49,99,40,17,81,18,57,60,87,17,40,98,43,69,48, 4,56,62, 0],\n",
    "\t[81,49,31,73,55,79,14,29,93,71,40,67,53,88,30, 3,49,13,36,65],\n",
    "\t[52,70,95,23, 4,60,11,42,69,24,68,56, 1,32,56,71,37, 2,36,91],\n",
    "\t[22,31,16,71,51,67,63,89,41,92,36,54,22,40,40,28,66,33,13,80],\n",
    "\t[24,47,32,60,99, 3,45, 2,44,75,33,53,78,36,84,20,35,17,12,50],\n",
    "\t[32,98,81,28,64,23,67,10,26,38,40,67,59,54,70,66,18,38,64,70],\n",
    "\t[67,26,20,68, 2,62,12,20,95,63,94,39,63, 8,40,91,66,49,94,21],\n",
    "\t[24,55,58, 5,66,73,99,26,97,17,78,78,96,83,14,88,34,89,63,72],\n",
    "\t[21,36,23, 9,75, 0,76,44,20,45,35,14, 0,61,33,97,34,31,33,95],\n",
    "\t[78,17,53,28,22,75,31,67,15,94, 3,80, 4,62,16,14, 9,53,56,92],\n",
    "\t[16,39, 5,42,96,35,31,47,55,58,88,24, 0,17,54,24,36,29,85,57],\n",
    "\t[86,56, 0,48,35,71,89, 7, 5,44,44,37,44,60,21,58,51,54,17,58],\n",
    "\t[19,80,81,68, 5,94,47,69,28,73,92,13,86,52,17,77, 4,89,55,40],\n",
    "\t[ 4,52, 8,83,97,35,99,16, 7,97,57,32,16,26,26,79,33,27,98,66],\n",
    "\t[88,36,68,87,57,62,20,72, 3,46,33,67,46,55,12,32,63,93,53,69],\n",
    "\t[ 4,42,16,73,38,25,39,11,24,94,72,18, 8,46,29,32,40,62,76,36],\n",
    "\t[20,69,36,41,72,30,23,88,34,62,99,69,82,67,59,85,74, 4,36,16],\n",
    "\t[20,73,35,29,78,31,90, 1,74,31,49,71,48,86,81,16,23,57, 5,54],\n",
    "\t[ 1,70,54,71,83,51,54,69,16,92,33,48,61,43,52, 1,89,19,67,48],\n",
    "]\n",
    "CONSECUTIVE = 4\n",
    "\n",
    "\n",
    "if __name__ == \"__main__\":\n",
    "\tprint(compute())"
   ]
  },
  {
   "cell_type": "markdown",
   "metadata": {},
   "source": [
    "### 12. The sequence of triangle numbers is generated by adding the natural numbers. So the 7th triangle number would be 1 + 2 + 3 + 4 + 5 + 6 + 7 = 28. The first ten terms would be:\n",
    "\n",
    "1, 3, 6, 10, 15, 21, 28, 36, 45, 55, ...\n",
    "\n",
    "Let us list the factors of the first seven triangle numbers:\n",
    "\n",
    " 1: 1\n",
    " 3: 1,3\n",
    " 6: 1,2,3,6\n",
    "10: 1,2,5,10\n",
    "15: 1,3,5,15\n",
    "21: 1,3,7,21\n",
    "28: 1,2,4,7,14,28\n",
    "We can see that 28 is the first triangle number to have over five divisors.\n",
    "\n",
    "What is the value of the first triangle number to have over five hundred divisors?"
   ]
  },
  {
   "cell_type": "code",
   "execution_count": null,
   "metadata": {},
   "outputs": [],
   "source": []
  }
 ],
 "metadata": {
  "kernelspec": {
   "display_name": "Python 3",
   "language": "python",
   "name": "python3"
  },
  "language_info": {
   "codemirror_mode": {
    "name": "ipython",
    "version": 3
   },
   "file_extension": ".py",
   "mimetype": "text/x-python",
   "name": "python",
   "nbconvert_exporter": "python",
   "pygments_lexer": "ipython3",
   "version": "3.7.1"
  }
 },
 "nbformat": 4,
 "nbformat_minor": 2
}
